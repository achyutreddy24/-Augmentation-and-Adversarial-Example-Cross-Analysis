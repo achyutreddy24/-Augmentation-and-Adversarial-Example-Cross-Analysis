{
 "cells": [
  {
   "cell_type": "code",
   "execution_count": 1,
   "metadata": {},
   "outputs": [],
   "source": [
    "# AC-GAN Github Example: https://github.com/clvrai/ACGAN-PyTorch/"
   ]
  },
  {
   "cell_type": "code",
   "execution_count": 2,
   "metadata": {},
   "outputs": [],
   "source": [
    "import numpy as np\n",
    "import matplotlib.pyplot as plt\n",
    "import torch\n",
    "import torch.nn as nn\n",
    "import torch.optim as optim\n",
    "from torch.autograd import Variable\n",
    "from torch.utils import data as t_data\n",
    "import torchvision.datasets as datasets\n",
    "from torchvision import transforms\n",
    "import torch.nn.functional as F"
   ]
  },
  {
   "cell_type": "code",
   "execution_count": 3,
   "metadata": {},
   "outputs": [],
   "source": [
    "# Config\n",
    "\n",
    "n_epochs = 1000\n",
    "learning_rate = 0.005\n",
    "momentum = 0.5\n",
    "print_interval = 10\n",
    "batch_size = 4\n",
    "d_steps = 100\n",
    "g_steps = 100\n",
    "\n",
    "transform = transforms.Compose([\n",
    "                               transforms.ToTensor(),\n",
    "                               transforms.Normalize(\n",
    "                                 (0.1307,), (0.3081,))])"
   ]
  },
  {
   "cell_type": "code",
   "execution_count": 4,
   "metadata": {},
   "outputs": [],
   "source": [
    "def get_noise():\n",
    "    return torch.rand(batch_size,49)\n",
    "\n",
    "def plot_img(array,number=None):\n",
    "    array = array.detach()\n",
    "    array = array.reshape(28,28)\n",
    "    \n",
    "    plt.imshow(array,cmap='binary')\n",
    "    plt.xticks([])\n",
    "    plt.yticks([])\n",
    "    if number:\n",
    "        plt.xlabel(number,fontsize='x-large')\n",
    "    plt.show()"
   ]
  },
  {
   "cell_type": "code",
   "execution_count": 5,
   "metadata": {},
   "outputs": [],
   "source": [
    "trainset = datasets.MNIST(root='./data', train=True,\n",
    "                                        download=True, transform=transform)\n",
    "train_loader = torch.utils.data.DataLoader(\n",
    "                              datasets.MNIST('../data/', train=True, download=True,\n",
    "                                 transform=transform),\n",
    "                              batch_size=batch_size, shuffle=True)"
   ]
  },
  {
   "cell_type": "code",
   "execution_count": 6,
   "metadata": {},
   "outputs": [],
   "source": [
    "class generator(nn.Module):\n",
    "    \n",
    "    def __init__(self):\n",
    "        \n",
    "        super(generator, self).__init__()\n",
    "        \n",
    "        self.lin1 = nn.Linear(49, 49 * 32)\n",
    "        self.convt = nn.ConvTranspose2d(32, 32, 4, stride=2, padding=1)\n",
    "        self.conv = nn.Conv2d(32, 1, 5, padding=2)\n",
    "        \n",
    "    def forward(self, x):\n",
    "        x = F.leaky_relu(self.lin1(x))\n",
    "        x = x.reshape(batch_size, 32, 7, 7)  # 7x7\n",
    "        x = F.leaky_relu(self.convt(x))  # 14x14\n",
    "        x = F.leaky_relu(self.convt(x))  # 28x28\n",
    "        x = F.sigmoid(self.conv(x))\n",
    "        return x"
   ]
  },
  {
   "cell_type": "code",
   "execution_count": 7,
   "metadata": {},
   "outputs": [],
   "source": [
    "class discriminator(nn.Module):\n",
    "    \n",
    "    def __init__(self):\n",
    "        \n",
    "        super(discriminator, self).__init__()\n",
    "        \n",
    "        self.conv1 = nn.Conv2d(1, 16, 3, padding=1)\n",
    "        self.conv2 = nn.Conv2d(16, 16, 3, padding=1)\n",
    "        self.flatten = nn.Flatten()\n",
    "        self.lin1 = nn.Linear(16*28*28, 300)\n",
    "        self.lin2 = nn.Linear(300, 1)\n",
    "        \n",
    "    def forward(self, x):\n",
    "        x = F.dropout2d(F.leaky_relu(self.conv1(x)), p=0.4)\n",
    "        x = F.dropout2d(F.leaky_relu(self.conv2(x)), p=0.4)\n",
    "        x = x.reshape(batch_size, 16 * 28 * 28)\n",
    "        x = F.relu(self.lin1(x))\n",
    "        x = F.sigmoid(self.lin2(x))\n",
    "        return x"
   ]
  },
  {
   "cell_type": "code",
   "execution_count": 8,
   "metadata": {},
   "outputs": [],
   "source": [
    "dis = discriminator()\n",
    "gen = generator()\n",
    "\n",
    "criteriond1 = nn.BCELoss()\n",
    "optimizerd1 = optim.SGD(dis.parameters(), lr=learning_rate, momentum=momentum)\n",
    "\n",
    "criteriond2 = nn.BCELoss()\n",
    "optimizerd2 = optim.SGD(gen.parameters(), lr=learning_rate, momentum=momentum)"
   ]
  },
  {
   "cell_type": "code",
   "execution_count": 9,
   "metadata": {},
   "outputs": [
    {
     "name": "stderr",
     "output_type": "stream",
     "text": [
      "/home/calvinhirsch/Augmentation-and-Adversarial-Example-Cross-Analysis/venv/lib/python3.6/site-packages/torch/nn/functional.py:1351: UserWarning: nn.functional.sigmoid is deprecated. Use torch.sigmoid instead.\n",
      "  warnings.warn(\"nn.functional.sigmoid is deprecated. Use torch.sigmoid instead.\")\n"
     ]
    },
    {
     "name": "stdout",
     "output_type": "stream",
     "text": [
      "========0========\n",
      "Real Loss: 3.676183918764881\n",
      "Fake Loss: 4.729586929986908\n"
     ]
    },
    {
     "data": {
      "image/png": "[encoded data removed]",
      "text/plain": [
       "<Figure size 432x288 with 1 Axes>"
      ]
     },
     "metadata": {},
     "output_type": "display_data"
    },
    {
     "name": "stdout",
     "output_type": "stream",
     "text": [
      "\n",
      "\n",
      "\n",
      "========10========\n",
      "Real Loss: 0.442560961914225\n",
      "Fake Loss: 1.4458698348078265\n"
     ]
    },
    {
     "data": {
      "image/png": "[encoded data removed]",
      "text/plain": [
       "<Figure size 432x288 with 1 Axes>"
      ]
     },
     "metadata": {},
     "output_type": "display_data"
    },
    {
     "name": "stdout",
     "output_type": "stream",
     "text": [
      "\n",
      "\n",
      "\n",
      "========20========\n",
      "Real Loss: 0.035386850015747484\n",
      "Fake Loss: 0.36034117290212464\n"
     ]
    },
    {
     "data": {
      "image/png": "[encoded data removed]",
      "text/plain": [
       "<Figure size 432x288 with 1 Axes>"
      ]
     },
     "metadata": {},
     "output_type": "display_data"
    },
    {
     "name": "stdout",
     "output_type": "stream",
     "text": [
      "\n",
      "\n",
      "\n",
      "========30========\n",
      "Real Loss: 0.1485204880613793\n",
      "Fake Loss: 0.19552943889630825\n"
     ]
    },
    {
     "data": {
      "image/png": "[encoded data removed]",
      "text/plain": [
       "<Figure size 432x288 with 1 Axes>"
      ]
     },
     "metadata": {},
     "output_type": "display_data"
    },
    {
     "name": "stdout",
     "output_type": "stream",
     "text": [
      "\n",
      "\n",
      "\n",
      "========40========\n",
      "Real Loss: 0.07872161250984888\n",
      "Fake Loss: 0.07005708072036043\n"
     ]
    },
    {
     "data": {
      "image/png": "[encoded data removed]",
      "text/plain": [
       "<Figure size 432x288 with 1 Axes>"
      ]
     },
     "metadata": {},
     "output_type": "display_data"
    },
    {
     "name": "stdout",
     "output_type": "stream",
     "text": [
      "\n",
      "\n",
      "\n"
     ]
    },
    {
     "ename": "KeyboardInterrupt",
     "evalue": "",
     "output_type": "error",
     "traceback": [
      "\u001b[0;31m---------------------------------------------------------------------------\u001b[0m",
      "\u001b[0;31mKeyboardInterrupt\u001b[0m                         Traceback (most recent call last)",
      "\u001b[0;32m<ipython-input-9-0a1b079360a1>\u001b[0m in \u001b[0;36m<module>\u001b[0;34m\u001b[0m\n\u001b[1;32m     15\u001b[0m         \u001b[0mdis_real_out\u001b[0m \u001b[0;34m=\u001b[0m \u001b[0mdis\u001b[0m\u001b[0;34m(\u001b[0m\u001b[0minp_real_x\u001b[0m\u001b[0;34m)\u001b[0m\u001b[0;34m\u001b[0m\u001b[0;34m\u001b[0m\u001b[0m\n\u001b[1;32m     16\u001b[0m         \u001b[0mdis_real_loss\u001b[0m \u001b[0;34m=\u001b[0m \u001b[0mcriteriond1\u001b[0m\u001b[0;34m(\u001b[0m\u001b[0mdis_real_out\u001b[0m\u001b[0;34m,\u001b[0m \u001b[0mVariable\u001b[0m\u001b[0;34m(\u001b[0m\u001b[0mtorch\u001b[0m\u001b[0;34m.\u001b[0m\u001b[0mzeros\u001b[0m\u001b[0;34m(\u001b[0m\u001b[0mbatch_size\u001b[0m\u001b[0;34m,\u001b[0m \u001b[0;36m1\u001b[0m\u001b[0;34m)\u001b[0m\u001b[0;34m)\u001b[0m\u001b[0;34m)\u001b[0m\u001b[0;34m\u001b[0m\u001b[0;34m\u001b[0m\u001b[0m\n\u001b[0;32m---> 17\u001b[0;31m         \u001b[0mdis_real_loss\u001b[0m\u001b[0;34m.\u001b[0m\u001b[0mbackward\u001b[0m\u001b[0;34m(\u001b[0m\u001b[0;34m)\u001b[0m\u001b[0;34m\u001b[0m\u001b[0;34m\u001b[0m\u001b[0m\n\u001b[0m\u001b[1;32m     18\u001b[0m \u001b[0;34m\u001b[0m\u001b[0m\n\u001b[1;32m     19\u001b[0m         \u001b[0mrunning_real_loss\u001b[0m \u001b[0;34m+=\u001b[0m \u001b[0mdis_real_loss\u001b[0m\u001b[0;34m.\u001b[0m\u001b[0mitem\u001b[0m\u001b[0;34m(\u001b[0m\u001b[0;34m)\u001b[0m\u001b[0;34m\u001b[0m\u001b[0;34m\u001b[0m\u001b[0m\n",
      "\u001b[0;32m~/Augmentation-and-Adversarial-Example-Cross-Analysis/venv/lib/python3.6/site-packages/torch/tensor.py\u001b[0m in \u001b[0;36mbackward\u001b[0;34m(self, gradient, retain_graph, create_graph)\u001b[0m\n\u001b[1;32m    193\u001b[0m                 \u001b[0mproducts\u001b[0m\u001b[0;34m.\u001b[0m \u001b[0mDefaults\u001b[0m \u001b[0mto\u001b[0m\u001b[0;31m \u001b[0m\u001b[0;31m`\u001b[0m\u001b[0;31m`\u001b[0m\u001b[0;32mFalse\u001b[0m\u001b[0;31m`\u001b[0m\u001b[0;31m`\u001b[0m\u001b[0;34m.\u001b[0m\u001b[0;34m\u001b[0m\u001b[0;34m\u001b[0m\u001b[0m\n\u001b[1;32m    194\u001b[0m         \"\"\"\n\u001b[0;32m--> 195\u001b[0;31m         \u001b[0mtorch\u001b[0m\u001b[0;34m.\u001b[0m\u001b[0mautograd\u001b[0m\u001b[0;34m.\u001b[0m\u001b[0mbackward\u001b[0m\u001b[0;34m(\u001b[0m\u001b[0mself\u001b[0m\u001b[0;34m,\u001b[0m \u001b[0mgradient\u001b[0m\u001b[0;34m,\u001b[0m \u001b[0mretain_graph\u001b[0m\u001b[0;34m,\u001b[0m \u001b[0mcreate_graph\u001b[0m\u001b[0;34m)\u001b[0m\u001b[0;34m\u001b[0m\u001b[0;34m\u001b[0m\u001b[0m\n\u001b[0m\u001b[1;32m    196\u001b[0m \u001b[0;34m\u001b[0m\u001b[0m\n\u001b[1;32m    197\u001b[0m     \u001b[0;32mdef\u001b[0m \u001b[0mregister_hook\u001b[0m\u001b[0;34m(\u001b[0m\u001b[0mself\u001b[0m\u001b[0;34m,\u001b[0m \u001b[0mhook\u001b[0m\u001b[0;34m)\u001b[0m\u001b[0;34m:\u001b[0m\u001b[0;34m\u001b[0m\u001b[0;34m\u001b[0m\u001b[0m\n",
      "\u001b[0;32m~/Augmentation-and-Adversarial-Example-Cross-Analysis/venv/lib/python3.6/site-packages/torch/autograd/__init__.py\u001b[0m in \u001b[0;36mbackward\u001b[0;34m(tensors, grad_tensors, retain_graph, create_graph, grad_variables)\u001b[0m\n\u001b[1;32m     97\u001b[0m     Variable._execution_engine.run_backward(\n\u001b[1;32m     98\u001b[0m         \u001b[0mtensors\u001b[0m\u001b[0;34m,\u001b[0m \u001b[0mgrad_tensors\u001b[0m\u001b[0;34m,\u001b[0m \u001b[0mretain_graph\u001b[0m\u001b[0;34m,\u001b[0m \u001b[0mcreate_graph\u001b[0m\u001b[0;34m,\u001b[0m\u001b[0;34m\u001b[0m\u001b[0;34m\u001b[0m\u001b[0m\n\u001b[0;32m---> 99\u001b[0;31m         allow_unreachable=True)  # allow_unreachable flag\n\u001b[0m\u001b[1;32m    100\u001b[0m \u001b[0;34m\u001b[0m\u001b[0m\n\u001b[1;32m    101\u001b[0m \u001b[0;34m\u001b[0m\u001b[0m\n",
      "\u001b[0;31mKeyboardInterrupt\u001b[0m: "
     ]
    }
   ],
   "source": [
    "running_fake_loss = 0.0\n",
    "running_real_loss = 0.0\n",
    "\n",
    "for epoch in range(n_epochs + 1):\n",
    "    # training discriminator\n",
    "    for d_step in range(d_steps):\n",
    "        dis.zero_grad()\n",
    "        \n",
    "        # training discriminator on real data\n",
    "        for inp_real,t in train_loader:\n",
    "            inp_real_x = inp_real\n",
    "            target = t\n",
    "            break\n",
    "        \n",
    "        dis_real_out = dis(inp_real_x)\n",
    "        dis_real_loss = criteriond1(dis_real_out, Variable(torch.zeros(batch_size, 1)))\n",
    "        dis_real_loss.backward()\n",
    "        \n",
    "        running_real_loss += dis_real_loss.item()\n",
    "\n",
    "        # training discriminator on data produced by generator\n",
    "        inp_fake_x_gen = get_noise()\n",
    "        #output from generator is generated        \n",
    "        dis_inp_fake_x = gen(inp_fake_x_gen).reshape(batch_size, 1, 28, 28)\n",
    "        dis_fake_out = dis(dis_inp_fake_x)\n",
    "        dis_fake_loss = criteriond1(dis_fake_out,\n",
    "                                Variable(torch.zeros(batch_size,1)))\n",
    "        dis_fake_loss.backward()\n",
    "        \n",
    "        running_fake_loss += dis_fake_loss.item()\n",
    "\n",
    "        optimizerd1.step()\n",
    "        \n",
    "        \n",
    "            \n",
    "    # training generator\n",
    "    for g_step in range(g_steps):\n",
    "        gen.zero_grad()\n",
    "        \n",
    "        #generating data for input for generator\n",
    "        gen_inp = get_noise()\n",
    "        \n",
    "        gen_out = gen(gen_inp)\n",
    "        \n",
    "        dis_out_gen_training = dis(gen_out)\n",
    "        gen_loss = criteriond2(dis_out_gen_training,\n",
    "                               Variable(torch.ones(batch_size,1)))\n",
    "        gen_loss.backward()\n",
    "        \n",
    "        optimizerd2.step()\n",
    "        \n",
    "    if epoch%print_interval==0:\n",
    "        print(\"========\" + str(epoch) + \"========\")\n",
    "        print(\"Real Loss: \" + str(running_real_loss))\n",
    "        print(\"Fake Loss: \" + str(running_fake_loss))\n",
    "        running_real_loss = 0.0\n",
    "        running_fake_loss = 0.0\n",
    "        plot_img(gen_out[0])\n",
    "        print(\"\\n\\n\")"
   ]
  },
  {
   "cell_type": "code",
   "execution_count": null,
   "metadata": {},
   "outputs": [],
   "source": []
  }
 ],
 "metadata": {
  "kernelspec": {
   "display_name": "Python 3",
   "language": "python",
   "name": "python3"
  },
  "language_info": {
   "codemirror_mode": {
    "name": "ipython",
    "version": 3
   },
   "file_extension": ".py",
   "mimetype": "text/x-python",
   "name": "python",
   "nbconvert_exporter": "python",
   "pygments_lexer": "ipython3",
   "version": "3.6.9"
  }
 },
 "nbformat": 4,
 "nbformat_minor": 4
}
