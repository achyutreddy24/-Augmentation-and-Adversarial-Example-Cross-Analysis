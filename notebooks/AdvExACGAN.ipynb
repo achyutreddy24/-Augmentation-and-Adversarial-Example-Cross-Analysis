{
 "cells": [
  {
   "cell_type": "code",
   "execution_count": 87,
   "metadata": {},
   "outputs": [],
   "source": [
    "# AC-GAN Github Example: https://github.com/clvrai/ACGAN-PyTorch/"
   ]
  },
  {
   "cell_type": "code",
   "execution_count": 88,
   "metadata": {},
   "outputs": [],
   "source": [
    "import numpy as np\n",
    "import matplotlib.pyplot as plt\n",
    "import torch\n",
    "import torch.nn as nn\n",
    "import torch.optim as optim\n",
    "from torch.autograd import Variable\n",
    "from torch.utils import data as t_data\n",
    "import torchvision.datasets as datasets\n",
    "from torchvision import transforms\n",
    "import torch.nn.functional as F"
   ]
  },
  {
   "cell_type": "code",
   "execution_count": 97,
   "metadata": {},
   "outputs": [],
   "source": [
    "# Config\n",
    "\n",
    "n_epochs = 10000\n",
    "d_learning_rate = 0.0002\n",
    "g_learning_rate = 0.0001\n",
    "momentum = 0.5\n",
    "print_interval = 100\n",
    "batch_size = 4\n",
    "d_steps = 50\n",
    "g_steps = 128\n",
    "\n",
    "transform = transforms.Compose([\n",
    "                               transforms.ToTensor(),\n",
    "                               transforms.Normalize(\n",
    "                                 (0.1307,), (0.3081,))])"
   ]
  },
  {
   "cell_type": "code",
   "execution_count": 90,
   "metadata": {},
   "outputs": [],
   "source": [
    "def get_noise():\n",
    "    return torch.rand(batch_size,49)\n",
    "\n",
    "def plot_img(array,number=None):\n",
    "    array = array.detach()\n",
    "    array = array.reshape(28,28)\n",
    "    \n",
    "    plt.imshow(array,cmap='binary')\n",
    "    plt.xticks([])\n",
    "    plt.yticks([])\n",
    "    if number:\n",
    "        plt.xlabel(number,fontsize='x-large')\n",
    "    plt.show()"
   ]
  },
  {
   "cell_type": "code",
   "execution_count": 91,
   "metadata": {},
   "outputs": [],
   "source": [
    "train_loader = torch.utils.data.DataLoader(\n",
    "                              datasets.MNIST('../data/', train=True, download=True,\n",
    "                                 transform=transform),\n",
    "                              batch_size=batch_size, shuffle=True)\n",
    "\n",
    "#test_loader = torch.utils.data.DataLoader(\n",
    "#                              datasets.MNIST('../data/', train=False, download=True,\n",
    "#                                 transform=transform),\n",
    "#                              batch_size=batch_size, shuffle=True)"
   ]
  },
  {
   "cell_type": "code",
   "execution_count": 92,
   "metadata": {},
   "outputs": [],
   "source": [
    "class generator(nn.Module):\n",
    "    \n",
    "    def __init__(self):\n",
    "        \n",
    "        super(generator, self).__init__()\n",
    "        \n",
    "        self.lin1 = nn.Linear(49, 49 * 64)\n",
    "        self.convt1 = nn.ConvTranspose2d(64, 64, 4, stride=2, padding=1)\n",
    "        self.convt2 = nn.ConvTranspose2d(64, 64, 4, stride=2, padding=1)\n",
    "        self.conv = nn.Conv2d(64, 1, 5, padding=2)\n",
    "        \n",
    "        nn.init.xavier_uniform_(self.lin1.weight)\n",
    "        nn.init.xavier_uniform_(self.convt1.weight)\n",
    "        nn.init.xavier_uniform_(self.convt2.weight)\n",
    "        nn.init.xavier_uniform_(self.conv.weight)\n",
    "        \n",
    "    def forward(self, x):\n",
    "        x = F.leaky_relu(self.lin1(x), negative_slope=0.2)\n",
    "        x = x.view(batch_size, 64, 7, 7)  # 7x7\n",
    "        x = F.leaky_relu(self.convt1(x), negative_slope=0.2)  # 14x14\n",
    "        x = F.leaky_relu(self.convt2(x), negative_slope=0.2)  # 28x28\n",
    "        x = F.sigmoid(self.conv(x))\n",
    "        return x"
   ]
  },
  {
   "cell_type": "code",
   "execution_count": 93,
   "metadata": {},
   "outputs": [],
   "source": [
    "class discriminator(nn.Module):\n",
    "    \n",
    "    def __init__(self):\n",
    "        \n",
    "        super(discriminator, self).__init__()\n",
    "        \n",
    "        self.conv1 = nn.Conv2d(1, 32, 3, stride=2, padding=1)\n",
    "        self.conv2 = nn.Conv2d(32, 32, 3, stride=2, padding=1)\n",
    "        self.flatten = nn.Flatten()\n",
    "        self.lin1 = nn.Linear(32*7*7, 1)\n",
    "        \n",
    "        nn.init.xavier_uniform_(self.conv1.weight)\n",
    "        nn.init.xavier_uniform_(self.conv2.weight)\n",
    "        nn.init.xavier_uniform_(self.lin1.weight)\n",
    "        \n",
    "    def forward(self, x):  # 28x28\n",
    "        x = F.dropout2d(F.leaky_relu(self.conv1(x), negative_slope=0.2), p=0.4)  # 14x14\n",
    "        x = F.dropout2d(F.leaky_relu(self.conv2(x), negative_slope=0.2), p=0.4)  # 7x7\n",
    "        x = x.view(batch_size, 32 * 7 * 7)\n",
    "        x = F.sigmoid(self.lin1(x))\n",
    "        return x"
   ]
  },
  {
   "cell_type": "code",
   "execution_count": 94,
   "metadata": {},
   "outputs": [],
   "source": [
    "dis = discriminator().cuda()\n",
    "gen = generator().cuda()\n",
    "\n",
    "criteriond1 = nn.BCELoss()\n",
    "optimizerd1 = optim.Adam(dis.parameters(), lr=d_learning_rate, betas=(momentum,0.999))\n",
    "\n",
    "criteriond2 = nn.BCELoss()\n",
    "optimizerd2 = optim.Adam(gen.parameters(), lr=g_learning_rate, betas=(momentum,0.999))"
   ]
  },
  {
   "cell_type": "code",
   "execution_count": 98,
   "metadata": {},
   "outputs": [
    {
     "name": "stdout",
     "output_type": "stream",
     "text": [
      "========0========\n",
      "Avg Real Loss: 0.0\n",
      "Avg Fake Loss: 2.145769940398168e-08\n"
     ]
    },
    {
     "data": {
      "image/png": "[encoded data removed]",
      "text/plain": [
       "<Figure size 432x288 with 1 Axes>"
      ]
     },
     "metadata": {},
     "output_type": "display_data"
    },
    {
     "name": "stdout",
     "output_type": "stream",
     "text": [
      "\n",
      "\n",
      "\n",
      "========100========\n",
      "Avg Real Loss: 0.00017942827025159148\n",
      "Avg Fake Loss: 0.00024957721459571757\n"
     ]
    },
    {
     "data": {
      "image/png": "[encoded data removed]",
      "text/plain": [
       "<Figure size 432x288 with 1 Axes>"
      ]
     },
     "metadata": {},
     "output_type": "display_data"
    },
    {
     "name": "stdout",
     "output_type": "stream",
     "text": [
      "\n",
      "\n",
      "\n",
      "========200========\n",
      "Avg Real Loss: 8.801314205229006e-05\n",
      "Avg Fake Loss: 0.0006066007161065557\n"
     ]
    },
    {
     "data": {
      "image/png": "[encoded data removed]",
      "text/plain": [
       "<Figure size 432x288 with 1 Axes>"
      ]
     },
     "metadata": {},
     "output_type": "display_data"
    },
    {
     "name": "stdout",
     "output_type": "stream",
     "text": [
      "\n",
      "\n",
      "\n",
      "========300========\n",
      "Avg Real Loss: 0.000125606306982462\n",
      "Avg Fake Loss: 0.00021962013498196597\n"
     ]
    },
    {
     "data": {
      "image/png": "[encoded data removed]",
      "text/plain": [
       "<Figure size 432x288 with 1 Axes>"
      ]
     },
     "metadata": {},
     "output_type": "display_data"
    },
    {
     "name": "stdout",
     "output_type": "stream",
     "text": [
      "\n",
      "\n",
      "\n",
      "========400========\n",
      "Avg Real Loss: 0.0003396395239209227\n",
      "Avg Fake Loss: 0.0003890810574149839\n"
     ]
    },
    {
     "data": {
      "image/png": "[encoded data removed]",
      "text/plain": [
       "<Figure size 432x288 with 1 Axes>"
      ]
     },
     "metadata": {},
     "output_type": "display_data"
    },
    {
     "name": "stdout",
     "output_type": "stream",
     "text": [
      "\n",
      "\n",
      "\n",
      "========500========\n",
      "Avg Real Loss: 0.00013772715426576098\n",
      "Avg Fake Loss: 0.00024436652237803003\n"
     ]
    },
    {
     "data": {
      "image/png": "[encoded data removed]",
      "text/plain": [
       "<Figure size 432x288 with 1 Axes>"
      ]
     },
     "metadata": {},
     "output_type": "display_data"
    },
    {
     "name": "stdout",
     "output_type": "stream",
     "text": [
      "\n",
      "\n",
      "\n",
      "========600========\n",
      "Avg Real Loss: 2.7555708822646353e-05\n",
      "Avg Fake Loss: 0.0001508054260552427\n"
     ]
    },
    {
     "data": {
      "image/png": "[encoded data removed]",
      "text/plain": [
       "<Figure size 432x288 with 1 Axes>"
      ]
     },
     "metadata": {},
     "output_type": "display_data"
    },
    {
     "name": "stdout",
     "output_type": "stream",
     "text": [
      "\n",
      "\n",
      "\n",
      "========700========\n",
      "Avg Real Loss: 0.01085441788329625\n",
      "Avg Fake Loss: 0.0010070456398106132\n"
     ]
    },
    {
     "data": {
      "image/png": "[encoded data removed]",
      "text/plain": [
       "<Figure size 432x288 with 1 Axes>"
      ]
     },
     "metadata": {},
     "output_type": "display_data"
    },
    {
     "name": "stdout",
     "output_type": "stream",
     "text": [
      "\n",
      "\n",
      "\n",
      "========800========\n",
      "Avg Real Loss: 5.70616055483697e-06\n",
      "Avg Fake Loss: 0.002174923588957682\n"
     ]
    },
    {
     "data": {
      "image/png": "[encoded data removed]",
      "text/plain": [
       "<Figure size 432x288 with 1 Axes>"
      ]
     },
     "metadata": {},
     "output_type": "display_data"
    },
    {
     "name": "stdout",
     "output_type": "stream",
     "text": [
      "\n",
      "\n",
      "\n",
      "========900========\n",
      "Avg Real Loss: 0.00017911476773747382\n",
      "Avg Fake Loss: 0.00028668977757341453\n"
     ]
    },
    {
     "data": {
      "image/png": "[encoded data removed]",
      "text/plain": [
       "<Figure size 432x288 with 1 Axes>"
      ]
     },
     "metadata": {},
     "output_type": "display_data"
    },
    {
     "name": "stdout",
     "output_type": "stream",
     "text": [
      "\n",
      "\n",
      "\n",
      "========1000========\n",
      "Avg Real Loss: 0.0025385231043524924\n",
      "Avg Fake Loss: 0.000747838429113017\n"
     ]
    },
    {
     "data": {
      "image/png": "[encoded data removed]",
      "text/plain": [
       "<Figure size 432x288 with 1 Axes>"
      ]
     },
     "metadata": {},
     "output_type": "display_data"
    },
    {
     "name": "stdout",
     "output_type": "stream",
     "text": [
      "\n",
      "\n",
      "\n",
      "========1100========\n",
      "Avg Real Loss: 2.36540942589869e-05\n",
      "Avg Fake Loss: 0.00020002183086887727\n"
     ]
    },
    {
     "data": {
      "image/png": "[encoded data removed]",
      "text/plain": [
       "<Figure size 432x288 with 1 Axes>"
      ]
     },
     "metadata": {},
     "output_type": "display_data"
    },
    {
     "name": "stdout",
     "output_type": "stream",
     "text": [
      "\n",
      "\n",
      "\n",
      "========1200========\n",
      "Avg Real Loss: 7.742201413591942e-06\n",
      "Avg Fake Loss: 0.00020952813969358887\n"
     ]
    },
    {
     "data": {
      "image/png": "[encoded data removed]",
      "text/plain": [
       "<Figure size 432x288 with 1 Axes>"
      ]
     },
     "metadata": {},
     "output_type": "display_data"
    },
    {
     "name": "stdout",
     "output_type": "stream",
     "text": [
      "\n",
      "\n",
      "\n",
      "========1300========\n",
      "Avg Real Loss: 1.8936779068212673e-06\n",
      "Avg Fake Loss: 0.0004154229972620271\n"
     ]
    },
    {
     "data": {
      "image/png": "[encoded data removed]",
      "text/plain": [
       "<Figure size 432x288 with 1 Axes>"
      ]
     },
     "metadata": {},
     "output_type": "display_data"
    },
    {
     "name": "stdout",
     "output_type": "stream",
     "text": [
      "\n",
      "\n",
      "\n",
      "========1400========\n",
      "Avg Real Loss: 0.0002923268304097348\n",
      "Avg Fake Loss: 0.0005009913113116226\n"
     ]
    },
    {
     "data": {
      "image/png": "[encoded data removed]",
      "text/plain": [
       "<Figure size 432x288 with 1 Axes>"
      ]
     },
     "metadata": {},
     "output_type": "display_data"
    },
    {
     "name": "stdout",
     "output_type": "stream",
     "text": [
      "\n",
      "\n",
      "\n",
      "========1500========\n",
      "Avg Real Loss: 4.0403091646936675e-05\n",
      "Avg Fake Loss: 8.427832345518026e-05\n"
     ]
    },
    {
     "data": {
      "image/png": "[encoded data removed]",
      "text/plain": [
       "<Figure size 432x288 with 1 Axes>"
      ]
     },
     "metadata": {},
     "output_type": "display_data"
    },
    {
     "name": "stdout",
     "output_type": "stream",
     "text": [
      "\n",
      "\n",
      "\n",
      "========1600========\n",
      "Avg Real Loss: 9.041912495248994e-06\n",
      "Avg Fake Loss: 0.0002894740947139951\n"
     ]
    },
    {
     "data": {
      "image/png": "[encoded data removed]",
      "text/plain": [
       "<Figure size 432x288 with 1 Axes>"
      ]
     },
     "metadata": {},
     "output_type": "display_data"
    },
    {
     "name": "stdout",
     "output_type": "stream",
     "text": [
      "\n",
      "\n",
      "\n",
      "========1700========\n",
      "Avg Real Loss: 7.78371760329577e-05\n",
      "Avg Fake Loss: 0.00019866832870981454\n"
     ]
    },
    {
     "data": {
      "image/png": "[encoded data removed]",
      "text/plain": [
       "<Figure size 432x288 with 1 Axes>"
      ]
     },
     "metadata": {},
     "output_type": "display_data"
    },
    {
     "name": "stdout",
     "output_type": "stream",
     "text": [
      "\n",
      "\n",
      "\n",
      "========1800========\n",
      "Avg Real Loss: 2.896593639761136e-05\n",
      "Avg Fake Loss: 0.00010471721402232958\n"
     ]
    },
    {
     "data": {
      "image/png": "[encoded data removed]",
      "text/plain": [
       "<Figure size 432x288 with 1 Axes>"
      ]
     },
     "metadata": {},
     "output_type": "display_data"
    },
    {
     "name": "stdout",
     "output_type": "stream",
     "text": [
      "\n",
      "\n",
      "\n",
      "========1900========\n",
      "Avg Real Loss: 0.000110561667053517\n",
      "Avg Fake Loss: 0.00058425775399229\n"
     ]
    },
    {
     "data": {
      "image/png": "[encoded data removed]",
      "text/plain": [
       "<Figure size 432x288 with 1 Axes>"
      ]
     },
     "metadata": {},
     "output_type": "display_data"
    },
    {
     "name": "stdout",
     "output_type": "stream",
     "text": [
      "\n",
      "\n",
      "\n",
      "========2000========\n",
      "Avg Real Loss: 1.1174010571295412e-05\n",
      "Avg Fake Loss: 0.00014207343599942135\n"
     ]
    },
    {
     "data": {
      "image/png": "[encoded data removed]",
      "text/plain": [
       "<Figure size 432x288 with 1 Axes>"
      ]
     },
     "metadata": {},
     "output_type": "display_data"
    },
    {
     "name": "stdout",
     "output_type": "stream",
     "text": [
      "\n",
      "\n",
      "\n",
      "========2100========\n",
      "Avg Real Loss: 5.210467487501091e-05\n",
      "Avg Fake Loss: 6.848301150697012e-05\n"
     ]
    },
    {
     "data": {
      "image/png": "[encoded data removed]",
      "text/plain": [
       "<Figure size 432x288 with 1 Axes>"
      ]
     },
     "metadata": {},
     "output_type": "display_data"
    },
    {
     "name": "stdout",
     "output_type": "stream",
     "text": [
      "\n",
      "\n",
      "\n",
      "========2200========\n",
      "Avg Real Loss: 1.4987736961700192e-05\n",
      "Avg Fake Loss: 7.098595695403275e-05\n"
     ]
    },
    {
     "data": {
      "image/png": "[encoded data removed]",
      "text/plain": [
       "<Figure size 432x288 with 1 Axes>"
      ]
     },
     "metadata": {},
     "output_type": "display_data"
    },
    {
     "name": "stdout",
     "output_type": "stream",
     "text": [
      "\n",
      "\n",
      "\n",
      "========2300========\n",
      "Avg Real Loss: 2.438434077795648e-05\n",
      "Avg Fake Loss: 6.283704093974052e-05\n"
     ]
    },
    {
     "data": {
      "image/png": "[encoded data removed]",
      "text/plain": [
       "<Figure size 432x288 with 1 Axes>"
      ]
     },
     "metadata": {},
     "output_type": "display_data"
    },
    {
     "name": "stdout",
     "output_type": "stream",
     "text": [
      "\n",
      "\n",
      "\n",
      "========2400========\n",
      "Avg Real Loss: 6.868612001319719e-05\n",
      "Avg Fake Loss: 5.85159728599649e-05\n"
     ]
    },
    {
     "data": {
      "image/png": "[encoded data removed]",
      "text/plain": [
       "<Figure size 432x288 with 1 Axes>"
      ]
     },
     "metadata": {},
     "output_type": "display_data"
    },
    {
     "name": "stdout",
     "output_type": "stream",
     "text": [
      "\n",
      "\n",
      "\n",
      "========2500========\n",
      "Avg Real Loss: 0.00013320588014387625\n",
      "Avg Fake Loss: 7.103610454670673e-05\n"
     ]
    },
    {
     "data": {
      "image/png": "[encoded data removed]",
      "text/plain": [
       "<Figure size 432x288 with 1 Axes>"
      ]
     },
     "metadata": {},
     "output_type": "display_data"
    },
    {
     "name": "stdout",
     "output_type": "stream",
     "text": [
      "\n",
      "\n",
      "\n",
      "========2600========\n",
      "Avg Real Loss: 6.365483665859983e-06\n",
      "Avg Fake Loss: 0.00017547289888810268\n"
     ]
    },
    {
     "data": {
      "image/png": "[encoded data removed]",
      "text/plain": [
       "<Figure size 432x288 with 1 Axes>"
      ]
     },
     "metadata": {},
     "output_type": "display_data"
    },
    {
     "name": "stdout",
     "output_type": "stream",
     "text": [
      "\n",
      "\n",
      "\n",
      "========2700========\n",
      "Avg Real Loss: 4.445082942126533e-05\n",
      "Avg Fake Loss: 0.00012434158179310372\n"
     ]
    },
    {
     "data": {
      "image/png": "[encoded data removed]",
      "text/plain": [
       "<Figure size 432x288 with 1 Axes>"
      ]
     },
     "metadata": {},
     "output_type": "display_data"
    },
    {
     "name": "stdout",
     "output_type": "stream",
     "text": [
      "\n",
      "\n",
      "\n",
      "========2800========\n",
      "Avg Real Loss: 1.150521021173745e-05\n",
      "Avg Fake Loss: 0.0002306475273801567\n"
     ]
    },
    {
     "data": {
      "image/png": "[encoded data removed]",
      "text/plain": [
       "<Figure size 432x288 with 1 Axes>"
      ]
     },
     "metadata": {},
     "output_type": "display_data"
    },
    {
     "name": "stdout",
     "output_type": "stream",
     "text": [
      "\n",
      "\n",
      "\n",
      "========2900========\n",
      "Avg Real Loss: 0.0028043869030541656\n",
      "Avg Fake Loss: 0.00013590052837678002\n"
     ]
    },
    {
     "data": {
      "image/png": "[encoded data removed]",
      "text/plain": [
       "<Figure size 432x288 with 1 Axes>"
      ]
     },
     "metadata": {},
     "output_type": "display_data"
    },
    {
     "name": "stdout",
     "output_type": "stream",
     "text": [
      "\n",
      "\n",
      "\n",
      "========3000========\n",
      "Avg Real Loss: 2.3842062610413e-07\n",
      "Avg Fake Loss: 0.00017546516594975969\n"
     ]
    },
    {
     "data": {
      "image/png": "[encoded data removed]",
      "text/plain": [
       "<Figure size 432x288 with 1 Axes>"
      ]
     },
     "metadata": {},
     "output_type": "display_data"
    },
    {
     "name": "stdout",
     "output_type": "stream",
     "text": [
      "\n",
      "\n",
      "\n",
      "========3100========\n",
      "Avg Real Loss: 0.0002048460969356114\n",
      "Avg Fake Loss: 0.0001466597258581004\n"
     ]
    },
    {
     "data": {
      "image/png": "[encoded data removed]",
      "text/plain": [
       "<Figure size 432x288 with 1 Axes>"
      ]
     },
     "metadata": {},
     "output_type": "display_data"
    },
    {
     "name": "stdout",
     "output_type": "stream",
     "text": [
      "\n",
      "\n",
      "\n",
      "========3200========\n",
      "Avg Real Loss: 6.878620004613367e-07\n",
      "Avg Fake Loss: 0.00012957022517269933\n"
     ]
    },
    {
     "data": {
      "image/png": "[encoded data removed]",
      "text/plain": [
       "<Figure size 432x288 with 1 Axes>"
      ]
     },
     "metadata": {},
     "output_type": "display_data"
    },
    {
     "name": "stdout",
     "output_type": "stream",
     "text": [
      "\n",
      "\n",
      "\n",
      "========3300========\n",
      "Avg Real Loss: 3.409428244793844e-07\n",
      "Avg Fake Loss: 0.0001072985308921659\n"
     ]
    },
    {
     "data": {
      "image/png": "[encoded data removed]",
      "text/plain": [
       "<Figure size 432x288 with 1 Axes>"
      ]
     },
     "metadata": {},
     "output_type": "display_data"
    },
    {
     "name": "stdout",
     "output_type": "stream",
     "text": [
      "\n",
      "\n",
      "\n",
      "========3400========\n",
      "Avg Real Loss: 4.968636926250269e-06\n",
      "Avg Fake Loss: 0.00010449041700709927\n"
     ]
    },
    {
     "data": {
      "image/png": "[encoded data removed]",
      "text/plain": [
       "<Figure size 432x288 with 1 Axes>"
      ]
     },
     "metadata": {},
     "output_type": "display_data"
    },
    {
     "name": "stdout",
     "output_type": "stream",
     "text": [
      "\n",
      "\n",
      "\n",
      "========3500========\n",
      "Avg Real Loss: 4.768410646249777e-07\n",
      "Avg Fake Loss: 5.1295891965779106e-05\n"
     ]
    },
    {
     "data": {
      "image/png": "[encoded data removed]",
      "text/plain": [
       "<Figure size 432x288 with 1 Axes>"
      ]
     },
     "metadata": {},
     "output_type": "display_data"
    },
    {
     "name": "stdout",
     "output_type": "stream",
     "text": [
      "\n",
      "\n",
      "\n",
      "========3600========\n",
      "Avg Real Loss: 1.7140278490046512e-06\n",
      "Avg Fake Loss: 3.4348775981385414e-05\n"
     ]
    },
    {
     "data": {
      "image/png": "[encoded data removed]",
      "text/plain": [
       "<Figure size 432x288 with 1 Axes>"
      ]
     },
     "metadata": {},
     "output_type": "display_data"
    },
    {
     "name": "stdout",
     "output_type": "stream",
     "text": [
      "\n",
      "\n",
      "\n",
      "========3700========\n",
      "Avg Real Loss: 1.8320126432342932e-05\n",
      "Avg Fake Loss: 7.542905055544225e-05\n"
     ]
    },
    {
     "data": {
      "image/png": "[encoded data removed]",
      "text/plain": [
       "<Figure size 432x288 with 1 Axes>"
      ]
     },
     "metadata": {},
     "output_type": "display_data"
    },
    {
     "name": "stdout",
     "output_type": "stream",
     "text": [
      "\n",
      "\n",
      "\n",
      "========3800========\n",
      "Avg Real Loss: 2.6449852962713295e-05\n",
      "Avg Fake Loss: 6.901943269319589e-05\n"
     ]
    },
    {
     "data": {
      "image/png": "[encoded data removed]",
      "text/plain": [
       "<Figure size 432x288 with 1 Axes>"
      ]
     },
     "metadata": {},
     "output_type": "display_data"
    },
    {
     "name": "stdout",
     "output_type": "stream",
     "text": [
      "\n",
      "\n",
      "\n",
      "========3900========\n",
      "Avg Real Loss: 1.2832451923472377e-05\n",
      "Avg Fake Loss: 2.8595003573599343e-05\n"
     ]
    },
    {
     "data": {
      "image/png": "[encoded data removed]",
      "text/plain": [
       "<Figure size 432x288 with 1 Axes>"
      ]
     },
     "metadata": {},
     "output_type": "display_data"
    },
    {
     "name": "stdout",
     "output_type": "stream",
     "text": [
      "\n",
      "\n",
      "\n",
      "========4000========\n",
      "Avg Real Loss: 3.3972678937743693e-06\n",
      "Avg Fake Loss: 7.070522286916513e-05\n"
     ]
    },
    {
     "data": {
      "image/png": "[encoded data removed]",
      "text/plain": [
       "<Figure size 432x288 with 1 Axes>"
      ]
     },
     "metadata": {},
     "output_type": "display_data"
    },
    {
     "name": "stdout",
     "output_type": "stream",
     "text": [
      "\n",
      "\n",
      "\n",
      "========4100========\n",
      "Avg Real Loss: 2.625946933321188e-06\n",
      "Avg Fake Loss: 3.498206454487729e-05\n"
     ]
    },
    {
     "data": {
      "image/png": "[encoded data removed]",
      "text/plain": [
       "<Figure size 432x288 with 1 Axes>"
      ]
     },
     "metadata": {},
     "output_type": "display_data"
    },
    {
     "name": "stdout",
     "output_type": "stream",
     "text": [
      "\n",
      "\n",
      "\n",
      "========4200========\n",
      "Avg Real Loss: 6.925668919421923e-06\n",
      "Avg Fake Loss: 7.1362843266769e-05\n"
     ]
    },
    {
     "data": {
      "image/png": "[encoded data removed]",
      "text/plain": [
       "<Figure size 432x288 with 1 Axes>"
      ]
     },
     "metadata": {},
     "output_type": "display_data"
    },
    {
     "name": "stdout",
     "output_type": "stream",
     "text": [
      "\n",
      "\n",
      "\n",
      "========4300========\n",
      "Avg Real Loss: 0.00030047853892625656\n",
      "Avg Fake Loss: 3.152592798798537e-05\n"
     ]
    },
    {
     "data": {
      "image/png": "[encoded data removed]",
      "text/plain": [
       "<Figure size 432x288 with 1 Axes>"
      ]
     },
     "metadata": {},
     "output_type": "display_data"
    },
    {
     "name": "stdout",
     "output_type": "stream",
     "text": [
      "\n",
      "\n",
      "\n",
      "========4400========\n",
      "Avg Real Loss: 1.3971960580221321e-05\n",
      "Avg Fake Loss: 5.4949507481723004e-05\n"
     ]
    },
    {
     "data": {
      "image/png": "[encoded data removed]",
      "text/plain": [
       "<Figure size 432x288 with 1 Axes>"
      ]
     },
     "metadata": {},
     "output_type": "display_data"
    },
    {
     "name": "stdout",
     "output_type": "stream",
     "text": [
      "\n",
      "\n",
      "\n",
      "========4500========\n",
      "Avg Real Loss: 7.313664587371704e-07\n",
      "Avg Fake Loss: 0.00013048637095870676\n"
     ]
    },
    {
     "data": {
      "image/png": "[encoded data removed]",
      "text/plain": [
       "<Figure size 432x288 with 1 Axes>"
      ]
     },
     "metadata": {},
     "output_type": "display_data"
    },
    {
     "name": "stdout",
     "output_type": "stream",
     "text": [
      "\n",
      "\n",
      "\n",
      "========4600========\n",
      "Avg Real Loss: 0.00021736058950921233\n",
      "Avg Fake Loss: 4.051230136717265e-05\n"
     ]
    },
    {
     "data": {
      "image/png": "[encoded data removed]",
      "text/plain": [
       "<Figure size 432x288 with 1 Axes>"
      ]
     },
     "metadata": {},
     "output_type": "display_data"
    },
    {
     "name": "stdout",
     "output_type": "stream",
     "text": [
      "\n",
      "\n",
      "\n",
      "========4700========\n",
      "Avg Real Loss: 1.1503785863453685e-07\n",
      "Avg Fake Loss: 6.970026876750524e-05\n"
     ]
    },
    {
     "data": {
      "image/png": "[encoded data removed]",
      "text/plain": [
       "<Figure size 432x288 with 1 Axes>"
      ]
     },
     "metadata": {},
     "output_type": "display_data"
    },
    {
     "name": "stdout",
     "output_type": "stream",
     "text": [
      "\n",
      "\n",
      "\n",
      "========4800========\n",
      "Avg Real Loss: 4.263221289448893e-06\n",
      "Avg Fake Loss: 0.00010519403014264128\n"
     ]
    },
    {
     "data": {
      "image/png": "[encoded data removed]",
      "text/plain": [
       "<Figure size 432x288 with 1 Axes>"
      ]
     },
     "metadata": {},
     "output_type": "display_data"
    },
    {
     "name": "stdout",
     "output_type": "stream",
     "text": [
      "\n",
      "\n",
      "\n",
      "========4900========\n",
      "Avg Real Loss: 2.880506456222065e-06\n",
      "Avg Fake Loss: 1.414882123178529e-05\n"
     ]
    },
    {
     "data": {
      "image/png": "[encoded data removed]",
      "text/plain": [
       "<Figure size 432x288 with 1 Axes>"
      ]
     },
     "metadata": {},
     "output_type": "display_data"
    },
    {
     "name": "stdout",
     "output_type": "stream",
     "text": [
      "\n",
      "\n",
      "\n",
      "========5000========\n",
      "Avg Real Loss: 1.8477678651152018e-07\n",
      "Avg Fake Loss: 2.3046830630590875e-05\n"
     ]
    },
    {
     "data": {
      "image/png": "[encoded data removed]",
      "text/plain": [
       "<Figure size 432x288 with 1 Axes>"
      ]
     },
     "metadata": {},
     "output_type": "display_data"
    },
    {
     "name": "stdout",
     "output_type": "stream",
     "text": [
      "\n",
      "\n",
      "\n",
      "========5100========\n",
      "Avg Real Loss: 9.65598281510438e-08\n",
      "Avg Fake Loss: 2.2593472092964363e-05\n"
     ]
    },
    {
     "data": {
      "image/png": "[encoded data removed]",
      "text/plain": [
       "<Figure size 432x288 with 1 Axes>"
      ]
     },
     "metadata": {},
     "output_type": "display_data"
    },
    {
     "name": "stdout",
     "output_type": "stream",
     "text": [
      "\n",
      "\n",
      "\n",
      "========5200========\n",
      "Avg Real Loss: 0.00031458225195329703\n",
      "Avg Fake Loss: 4.392092445947071e-05\n"
     ]
    },
    {
     "data": {
      "image/png": "[encoded data removed]",
      "text/plain": [
       "<Figure size 432x288 with 1 Axes>"
      ]
     },
     "metadata": {},
     "output_type": "display_data"
    },
    {
     "name": "stdout",
     "output_type": "stream",
     "text": [
      "\n",
      "\n",
      "\n",
      "========5300========\n",
      "Avg Real Loss: 1.496084292540445e-07\n",
      "Avg Fake Loss: 3.367627938672513e-05\n"
     ]
    },
    {
     "data": {
      "image/png": "[encoded data removed]",
      "text/plain": [
       "<Figure size 432x288 with 1 Axes>"
      ]
     },
     "metadata": {},
     "output_type": "display_data"
    },
    {
     "name": "stdout",
     "output_type": "stream",
     "text": [
      "\n",
      "\n",
      "\n",
      "========5400========\n",
      "Avg Real Loss: 3.920065806632067e-05\n",
      "Avg Fake Loss: 8.977711859913029e-05\n"
     ]
    },
    {
     "data": {
      "image/png": "[encoded data removed]",
      "text/plain": [
       "<Figure size 432x288 with 1 Axes>"
      ]
     },
     "metadata": {},
     "output_type": "display_data"
    },
    {
     "name": "stdout",
     "output_type": "stream",
     "text": [
      "\n",
      "\n",
      "\n",
      "========5500========\n",
      "Avg Real Loss: 5.0664071125083866e-08\n",
      "Avg Fake Loss: 1.602129686283149e-05\n"
     ]
    },
    {
     "data": {
      "image/png": "[encoded data removed]",
      "text/plain": [
       "<Figure size 432x288 with 1 Axes>"
      ]
     },
     "metadata": {},
     "output_type": "display_data"
    },
    {
     "name": "stdout",
     "output_type": "stream",
     "text": [
      "\n",
      "\n",
      "\n",
      "========5600========\n",
      "Avg Real Loss: 3.6121321684845497e-07\n",
      "Avg Fake Loss: 3.544382860845019e-05\n"
     ]
    },
    {
     "data": {
      "image/png": "[encoded data removed]",
      "text/plain": [
       "<Figure size 432x288 with 1 Axes>"
      ]
     },
     "metadata": {},
     "output_type": "display_data"
    },
    {
     "name": "stdout",
     "output_type": "stream",
     "text": [
      "\n",
      "\n",
      "\n",
      "========5700========\n",
      "Avg Real Loss: 1.7285363469454752e-08\n",
      "Avg Fake Loss: 3.4351241791839016e-05\n"
     ]
    },
    {
     "data": {
      "image/png": "[encoded data removed]",
      "text/plain": [
       "<Figure size 432x288 with 1 Axes>"
      ]
     },
     "metadata": {},
     "output_type": "display_data"
    },
    {
     "name": "stdout",
     "output_type": "stream",
     "text": [
      "\n",
      "\n",
      "\n",
      "========5800========\n",
      "Avg Real Loss: 6.556512772704082e-09\n",
      "Avg Fake Loss: 5.0488911115422754e-05\n"
     ]
    },
    {
     "data": {
      "image/png": "[encoded data removed]",
      "text/plain": [
       "<Figure size 432x288 with 1 Axes>"
      ]
     },
     "metadata": {},
     "output_type": "display_data"
    },
    {
     "name": "stdout",
     "output_type": "stream",
     "text": [
      "\n",
      "\n",
      "\n",
      "========5900========\n",
      "Avg Real Loss: 2.5033961961185015e-08\n",
      "Avg Fake Loss: 3.639882975676301e-05\n"
     ]
    },
    {
     "data": {
      "image/png": "[encoded data removed]",
      "text/plain": [
       "<Figure size 432x288 with 1 Axes>"
      ]
     },
     "metadata": {},
     "output_type": "display_data"
    },
    {
     "name": "stdout",
     "output_type": "stream",
     "text": [
      "\n",
      "\n",
      "\n",
      "========6000========\n",
      "Avg Real Loss: 1.442444735744175e-07\n",
      "Avg Fake Loss: 1.1815602091260757e-05\n"
     ]
    },
    {
     "data": {
      "image/png": "[encoded data removed]",
      "text/plain": [
       "<Figure size 432x288 with 1 Axes>"
      ]
     },
     "metadata": {},
     "output_type": "display_data"
    },
    {
     "name": "stdout",
     "output_type": "stream",
     "text": [
      "\n",
      "\n",
      "\n",
      "========6100========\n",
      "Avg Real Loss: 3.2186556140345603e-08\n",
      "Avg Fake Loss: 1.53012413354503e-05\n"
     ]
    },
    {
     "data": {
      "image/png": "[encoded data removed]",
      "text/plain": [
       "<Figure size 432x288 with 1 Axes>"
      ]
     },
     "metadata": {},
     "output_type": "display_data"
    },
    {
     "name": "stdout",
     "output_type": "stream",
     "text": [
      "\n",
      "\n",
      "\n",
      "========6200========\n",
      "Avg Real Loss: 2.3093224953640856e-05\n",
      "Avg Fake Loss: 4.759963315876803e-06\n"
     ]
    },
    {
     "data": {
      "image/png": "[encoded data removed]",
      "text/plain": [
       "<Figure size 432x288 with 1 Axes>"
      ]
     },
     "metadata": {},
     "output_type": "display_data"
    },
    {
     "name": "stdout",
     "output_type": "stream",
     "text": [
      "\n",
      "\n",
      "\n",
      "========6300========\n",
      "Avg Real Loss: 1.1324946662227831e-07\n",
      "Avg Fake Loss: 1.5164451671836331e-05\n"
     ]
    },
    {
     "data": {
      "image/png": "[encoded data removed]",
      "text/plain": [
       "<Figure size 432x288 with 1 Axes>"
      ]
     },
     "metadata": {},
     "output_type": "display_data"
    },
    {
     "name": "stdout",
     "output_type": "stream",
     "text": [
      "\n",
      "\n",
      "\n",
      "========6400========\n",
      "Avg Real Loss: 7.7486182661346e-08\n",
      "Avg Fake Loss: 2.36021144574039e-05\n"
     ]
    },
    {
     "data": {
      "image/png": "[encoded data removed]",
      "text/plain": [
       "<Figure size 432x288 with 1 Axes>"
      ]
     },
     "metadata": {},
     "output_type": "display_data"
    },
    {
     "name": "stdout",
     "output_type": "stream",
     "text": [
      "\n",
      "\n",
      "\n",
      "========6500========\n",
      "Avg Real Loss: 0.0013602606952905917\n",
      "Avg Fake Loss: 0.0002216238933384318\n"
     ]
    },
    {
     "data": {
      "image/png": "[encoded data removed]",
      "text/plain": [
       "<Figure size 432x288 with 1 Axes>"
      ]
     },
     "metadata": {},
     "output_type": "display_data"
    },
    {
     "name": "stdout",
     "output_type": "stream",
     "text": [
      "\n",
      "\n",
      "\n",
      "========6600========\n",
      "Avg Real Loss: 0.0\n",
      "Avg Fake Loss: 0.00018243335343015588\n"
     ]
    },
    {
     "data": {
      "image/png": "[encoded data removed]",
      "text/plain": [
       "<Figure size 432x288 with 1 Axes>"
      ]
     },
     "metadata": {},
     "output_type": "display_data"
    },
    {
     "name": "stdout",
     "output_type": "stream",
     "text": [
      "\n",
      "\n",
      "\n",
      "========6700========\n",
      "Avg Real Loss: 1.186144500309183e-07\n",
      "Avg Fake Loss: 0.00018857650181040243\n"
     ]
    },
    {
     "data": {
      "image/png": "[encoded data removed]",
      "text/plain": [
       "<Figure size 432x288 with 1 Axes>"
      ]
     },
     "metadata": {},
     "output_type": "display_data"
    },
    {
     "name": "stdout",
     "output_type": "stream",
     "text": [
      "\n",
      "\n",
      "\n",
      "========6800========\n",
      "Avg Real Loss: 5.960465188081798e-10\n",
      "Avg Fake Loss: 2.5212401062617573e-05\n"
     ]
    },
    {
     "data": {
      "image/png": "[encoded data removed]",
      "text/plain": [
       "<Figure size 432x288 with 1 Axes>"
      ]
     },
     "metadata": {},
     "output_type": "display_data"
    },
    {
     "name": "stdout",
     "output_type": "stream",
     "text": [
      "\n",
      "\n",
      "\n",
      "========6900========\n",
      "Avg Real Loss: 4.231939783494454e-08\n",
      "Avg Fake Loss: 3.292481129207658e-05\n"
     ]
    },
    {
     "data": {
      "image/png": "[encoded data removed]",
      "text/plain": [
       "<Figure size 432x288 with 1 Axes>"
      ]
     },
     "metadata": {},
     "output_type": "display_data"
    },
    {
     "name": "stdout",
     "output_type": "stream",
     "text": [
      "\n",
      "\n",
      "\n",
      "========7000========\n",
      "Avg Real Loss: 1.1920930376163596e-09\n",
      "Avg Fake Loss: 5.6319793965755596e-05\n"
     ]
    },
    {
     "data": {
      "image/png": "[encoded data removed]",
      "text/plain": [
       "<Figure size 432x288 with 1 Axes>"
      ]
     },
     "metadata": {},
     "output_type": "display_data"
    },
    {
     "name": "stdout",
     "output_type": "stream",
     "text": [
      "\n",
      "\n",
      "\n",
      "========7100========\n",
      "Avg Real Loss: 1.4901169436143392e-08\n",
      "Avg Fake Loss: 2.8889657981707728e-05\n"
     ]
    },
    {
     "data": {
      "image/png": "[encoded data removed]",
      "text/plain": [
       "<Figure size 432x288 with 1 Axes>"
      ]
     },
     "metadata": {},
     "output_type": "display_data"
    },
    {
     "name": "stdout",
     "output_type": "stream",
     "text": [
      "\n",
      "\n",
      "\n",
      "========7200========\n",
      "Avg Real Loss: 2.324586382940197e-08\n",
      "Avg Fake Loss: 1.8344205674267754e-05\n"
     ]
    },
    {
     "data": {
      "image/png": "[encoded data removed]",
      "text/plain": [
       "<Figure size 432x288 with 1 Axes>"
      ]
     },
     "metadata": {},
     "output_type": "display_data"
    },
    {
     "name": "stdout",
     "output_type": "stream",
     "text": [
      "\n",
      "\n",
      "\n",
      "========7300========\n",
      "Avg Real Loss: 0.0\n",
      "Avg Fake Loss: 1.9826153149509197e-05\n"
     ]
    },
    {
     "data": {
      "image/png": "[encoded data removed]",
      "text/plain": [
       "<Figure size 432x288 with 1 Axes>"
      ]
     },
     "metadata": {},
     "output_type": "display_data"
    },
    {
     "name": "stdout",
     "output_type": "stream",
     "text": [
      "\n",
      "\n",
      "\n",
      "========7400========\n",
      "Avg Real Loss: 4.4764415179088247e-07\n",
      "Avg Fake Loss: 1.2935483535869707e-05\n"
     ]
    },
    {
     "data": {
      "image/png": "[encoded data removed]",
      "text/plain": [
       "<Figure size 432x288 with 1 Axes>"
      ]
     },
     "metadata": {},
     "output_type": "display_data"
    },
    {
     "name": "stdout",
     "output_type": "stream",
     "text": [
      "\n",
      "\n",
      "\n",
      "========7500========\n",
      "Avg Real Loss: 1.3113030377098766e-08\n",
      "Avg Fake Loss: 2.5498145541718033e-05\n"
     ]
    },
    {
     "data": {
      "image/png": "[encoded data removed]",
      "text/plain": [
       "<Figure size 432x288 with 1 Axes>"
      ]
     },
     "metadata": {},
     "output_type": "display_data"
    },
    {
     "name": "stdout",
     "output_type": "stream",
     "text": [
      "\n",
      "\n",
      "\n",
      "========7600========\n",
      "Avg Real Loss: 7.748610073576855e-09\n",
      "Avg Fake Loss: 7.176930723602481e-06\n"
     ]
    },
    {
     "data": {
      "image/png": "[encoded data removed]",
      "text/plain": [
       "<Figure size 432x288 with 1 Axes>"
      ]
     },
     "metadata": {},
     "output_type": "display_data"
    },
    {
     "name": "stdout",
     "output_type": "stream",
     "text": [
      "\n",
      "\n",
      "\n",
      "========7700========\n",
      "Avg Real Loss: 2.384186146286993e-09\n",
      "Avg Fake Loss: 7.213136247493424e-05\n"
     ]
    },
    {
     "data": {
      "image/png": "[encoded data removed]",
      "text/plain": [
       "<Figure size 432x288 with 1 Axes>"
      ]
     },
     "metadata": {},
     "output_type": "display_data"
    },
    {
     "name": "stdout",
     "output_type": "stream",
     "text": [
      "\n",
      "\n",
      "\n",
      "========7800========\n",
      "Avg Real Loss: 3.106846248229544e-05\n",
      "Avg Fake Loss: 1.1430851871594428e-05\n"
     ]
    },
    {
     "data": {
      "image/png": "[encoded data removed]",
      "text/plain": [
       "<Figure size 432x288 with 1 Axes>"
      ]
     },
     "metadata": {},
     "output_type": "display_data"
    },
    {
     "name": "stdout",
     "output_type": "stream",
     "text": [
      "\n",
      "\n",
      "\n",
      "========7900========\n",
      "Avg Real Loss: 1.1920936699993944e-08\n",
      "Avg Fake Loss: 1.168564083968704e-06\n"
     ]
    },
    {
     "data": {
      "image/png": "[encoded data removed]",
      "text/plain": [
       "<Figure size 432x288 with 1 Axes>"
      ]
     },
     "metadata": {},
     "output_type": "display_data"
    },
    {
     "name": "stdout",
     "output_type": "stream",
     "text": [
      "\n",
      "\n",
      "\n",
      "========8000========\n",
      "Avg Real Loss: 2.0265944279174163e-07\n",
      "Avg Fake Loss: 5.395570929422888e-06\n"
     ]
    },
    {
     "data": {
      "image/png": "[encoded data removed]",
      "text/plain": [
       "<Figure size 432x288 with 1 Axes>"
      ]
     },
     "metadata": {},
     "output_type": "display_data"
    },
    {
     "name": "stdout",
     "output_type": "stream",
     "text": [
      "\n",
      "\n",
      "\n",
      "========8100========\n",
      "Avg Real Loss: 8.940700766402188e-09\n",
      "Avg Fake Loss: 1.4907860971504761e-05\n"
     ]
    },
    {
     "data": {
      "image/png": "[encoded data removed]",
      "text/plain": [
       "<Figure size 432x288 with 1 Axes>"
      ]
     },
     "metadata": {},
     "output_type": "display_data"
    },
    {
     "name": "stdout",
     "output_type": "stream",
     "text": [
      "\n",
      "\n",
      "\n",
      "========8200========\n",
      "Avg Real Loss: 3.22711633110373e-06\n",
      "Avg Fake Loss: 5.128390954212137e-06\n"
     ]
    },
    {
     "data": {
      "image/png": "[encoded data removed]",
      "text/plain": [
       "<Figure size 432x288 with 1 Axes>"
      ]
     },
     "metadata": {},
     "output_type": "display_data"
    },
    {
     "name": "stdout",
     "output_type": "stream",
     "text": [
      "\n",
      "\n",
      "\n",
      "========8300========\n",
      "Avg Real Loss: 1.1920930376163596e-09\n",
      "Avg Fake Loss: 1.1240342671854365e-05\n"
     ]
    },
    {
     "data": {
      "image/png": "[encoded data removed]",
      "text/plain": [
       "<Figure size 432x288 with 1 Axes>"
      ]
     },
     "metadata": {},
     "output_type": "display_data"
    },
    {
     "name": "stdout",
     "output_type": "stream",
     "text": [
      "\n",
      "\n",
      "\n",
      "========8400========\n",
      "Avg Real Loss: 5.185626605452853e-08\n",
      "Avg Fake Loss: 2.9129911882819215e-06\n"
     ]
    },
    {
     "data": {
      "image/png": "[encoded data removed]",
      "text/plain": [
       "<Figure size 432x288 with 1 Axes>"
      ]
     },
     "metadata": {},
     "output_type": "display_data"
    },
    {
     "name": "stdout",
     "output_type": "stream",
     "text": [
      "\n",
      "\n",
      "\n",
      "========8500========\n",
      "Avg Real Loss: 8.82155411829899e-08\n",
      "Avg Fake Loss: 3.97345636744717e-05\n"
     ]
    },
    {
     "data": {
      "image/png": "[encoded data removed]",
      "text/plain": [
       "<Figure size 432x288 with 1 Axes>"
      ]
     },
     "metadata": {},
     "output_type": "display_data"
    },
    {
     "name": "stdout",
     "output_type": "stream",
     "text": [
      "\n",
      "\n",
      "\n",
      "========8600========\n",
      "Avg Real Loss: 1.4305129880654022e-08\n",
      "Avg Fake Loss: 2.702903692011205e-06\n"
     ]
    },
    {
     "data": {
      "image/png": "[encoded data removed]",
      "text/plain": [
       "<Figure size 432x288 with 1 Axes>"
      ]
     },
     "metadata": {},
     "output_type": "display_data"
    },
    {
     "name": "stdout",
     "output_type": "stream",
     "text": [
      "\n",
      "\n",
      "\n",
      "========8700========\n",
      "Avg Real Loss: 3.814704214732956e-08\n",
      "Avg Fake Loss: 9.203244697886248e-07\n"
     ]
    },
    {
     "data": {
      "image/png": "[encoded data removed]",
      "text/plain": [
       "<Figure size 432x288 with 1 Axes>"
      ]
     },
     "metadata": {},
     "output_type": "display_data"
    },
    {
     "name": "stdout",
     "output_type": "stream",
     "text": [
      "\n",
      "\n",
      "\n",
      "========8800========\n",
      "Avg Real Loss: 6.759617114937555e-07\n",
      "Avg Fake Loss: 9.751684732606237e-07\n"
     ]
    },
    {
     "data": {
      "image/png": "[encoded data removed]",
      "text/plain": [
       "<Figure size 432x288 with 1 Axes>"
      ]
     },
     "metadata": {},
     "output_type": "display_data"
    },
    {
     "name": "stdout",
     "output_type": "stream",
     "text": [
      "\n",
      "\n",
      "\n",
      "========8900========\n",
      "Avg Real Loss: 2.73591988459998e-07\n",
      "Avg Fake Loss: 4.439020168476304e-06\n"
     ]
    },
    {
     "data": {
      "image/png": "[encoded data removed]",
      "text/plain": [
       "<Figure size 432x288 with 1 Axes>"
      ]
     },
     "metadata": {},
     "output_type": "display_data"
    },
    {
     "name": "stdout",
     "output_type": "stream",
     "text": [
      "\n",
      "\n",
      "\n",
      "========9000========\n",
      "Avg Real Loss: 5.67466426844021e-07\n",
      "Avg Fake Loss: 1.245167644512435e-06\n"
     ]
    },
    {
     "data": {
      "image/png": "[encoded data removed]",
      "text/plain": [
       "<Figure size 432x288 with 1 Axes>"
      ]
     },
     "metadata": {},
     "output_type": "display_data"
    },
    {
     "name": "stdout",
     "output_type": "stream",
     "text": [
      "\n",
      "\n",
      "\n",
      "========9100========\n",
      "Avg Real Loss: 1.788139627478813e-09\n",
      "Avg Fake Loss: 1.5534539270518622e-05\n"
     ]
    },
    {
     "data": {
      "image/png": "[encoded data removed]",
      "text/plain": [
       "<Figure size 432x288 with 1 Axes>"
      ]
     },
     "metadata": {},
     "output_type": "display_data"
    },
    {
     "name": "stdout",
     "output_type": "stream",
     "text": [
      "\n",
      "\n",
      "\n",
      "========9200========\n",
      "Avg Real Loss: 4.1723341510646606e-08\n",
      "Avg Fake Loss: 1.7098631472123316e-06\n"
     ]
    },
    {
     "data": {
      "image/png": "[encoded data removed]",
      "text/plain": [
       "<Figure size 432x288 with 1 Axes>"
      ]
     },
     "metadata": {},
     "output_type": "display_data"
    },
    {
     "name": "stdout",
     "output_type": "stream",
     "text": [
      "\n",
      "\n",
      "\n",
      "========9300========\n",
      "Avg Real Loss: 2.455766031062012e-07\n",
      "Avg Fake Loss: 1.390019384288621e-06\n"
     ]
    },
    {
     "data": {
      "image/png": "[encoded data removed]",
      "text/plain": [
       "<Figure size 432x288 with 1 Axes>"
      ]
     },
     "metadata": {},
     "output_type": "display_data"
    },
    {
     "name": "stdout",
     "output_type": "stream",
     "text": [
      "\n",
      "\n",
      "\n",
      "========9400========\n",
      "Avg Real Loss: 4.915931604045909e-06\n",
      "Avg Fake Loss: 6.324093345000392e-07\n"
     ]
    },
    {
     "data": {
      "image/png": "[encoded data removed]",
      "text/plain": [
       "<Figure size 432x288 with 1 Axes>"
      ]
     },
     "metadata": {},
     "output_type": "display_data"
    },
    {
     "name": "stdout",
     "output_type": "stream",
     "text": [
      "\n",
      "\n",
      "\n",
      "========9500========\n",
      "Avg Real Loss: 2.2232704651514724e-07\n",
      "Avg Fake Loss: 1.480390819537547e-05\n"
     ]
    },
    {
     "data": {
      "image/png": "[encoded data removed]",
      "text/plain": [
       "<Figure size 432x288 with 1 Axes>"
      ]
     },
     "metadata": {},
     "output_type": "display_data"
    },
    {
     "name": "stdout",
     "output_type": "stream",
     "text": [
      "\n",
      "\n",
      "\n",
      "========9600========\n",
      "Avg Real Loss: 2.3841863594498138e-09\n",
      "Avg Fake Loss: 8.764956051265926e-07\n"
     ]
    },
    {
     "data": {
      "image/png": "[encoded data removed]",
      "text/plain": [
       "<Figure size 432x288 with 1 Axes>"
      ]
     },
     "metadata": {},
     "output_type": "display_data"
    },
    {
     "name": "stdout",
     "output_type": "stream",
     "text": [
      "\n",
      "\n",
      "\n",
      "========9700========\n",
      "Avg Real Loss: 1.1920930376163596e-09\n",
      "Avg Fake Loss: 1.1804882892363367e-06\n"
     ]
    },
    {
     "data": {
      "image/png": "[encoded data removed]",
      "text/plain": [
       "<Figure size 432x288 with 1 Axes>"
      ]
     },
     "metadata": {},
     "output_type": "display_data"
    },
    {
     "name": "stdout",
     "output_type": "stream",
     "text": [
      "\n",
      "\n",
      "\n",
      "========9800========\n",
      "Avg Real Loss: 2.688233077918767e-07\n",
      "Avg Fake Loss: 1.0603837939981987e-06\n"
     ]
    },
    {
     "data": {
      "image/png": "[encoded data removed]",
      "text/plain": [
       "<Figure size 432x288 with 1 Axes>"
      ]
     },
     "metadata": {},
     "output_type": "display_data"
    },
    {
     "name": "stdout",
     "output_type": "stream",
     "text": [
      "\n",
      "\n",
      "\n",
      "========9900========\n",
      "Avg Real Loss: 7.105367697590736e-07\n",
      "Avg Fake Loss: 5.319761984878824e-07\n"
     ]
    },
    {
     "data": {
      "image/png": "[encoded data removed]",
      "text/plain": [
       "<Figure size 432x288 with 1 Axes>"
      ]
     },
     "metadata": {},
     "output_type": "display_data"
    },
    {
     "name": "stdout",
     "output_type": "stream",
     "text": [
      "\n",
      "\n",
      "\n",
      "========10000========\n",
      "Avg Real Loss: 2.0265605940039677e-08\n",
      "Avg Fake Loss: 4.2855925606488656e-07\n"
     ]
    },
    {
     "data": {
      "image/png": "[encoded data removed]",
      "text/plain": [
       "<Figure size 432x288 with 1 Axes>"
      ]
     },
     "metadata": {},
     "output_type": "display_data"
    },
    {
     "name": "stdout",
     "output_type": "stream",
     "text": [
      "\n",
      "\n",
      "\n"
     ]
    }
   ],
   "source": [
    "running_fake_loss = 0.0\n",
    "running_real_loss = 0.0\n",
    "\n",
    "for epoch in range(n_epochs + 1):\n",
    "    # training discriminator\n",
    "    #for d_step in range(d_steps):\n",
    "    dis.zero_grad()\n",
    "\n",
    "    # training discriminator on real data\n",
    "    for inp_real,t in train_loader:\n",
    "        inp_real_x = inp_real.cuda()\n",
    "        target = t.cuda()\n",
    "        break\n",
    "\n",
    "    dis_real_out = dis(inp_real_x)\n",
    "    dis_real_loss = criteriond1(dis_real_out, Variable(torch.ones(batch_size, 1)).cuda())\n",
    "    dis_real_loss.backward()\n",
    "\n",
    "    running_real_loss += dis_real_loss.item()\n",
    "\n",
    "    # training discriminator on data produced by generator\n",
    "    inp_fake_x_gen = get_noise().cuda()\n",
    "    #output from generator is generated        \n",
    "    dis_inp_fake_x = gen(inp_fake_x_gen).detach().reshape(batch_size, 1, 28, 28)\n",
    "    dis_fake_out = dis(dis_inp_fake_x)\n",
    "    dis_fake_loss = criteriond1(dis_fake_out, Variable(torch.zeros(batch_size,1)).cuda())\n",
    "    dis_fake_loss.backward()\n",
    "\n",
    "    running_fake_loss += dis_fake_loss.item()\n",
    "\n",
    "    optimizerd1.step()\n",
    "        \n",
    "        \n",
    "            \n",
    "    # training generator\n",
    "    #for g_step in range(g_steps):\n",
    "    gen.zero_grad()\n",
    "\n",
    "    #generating data for input for generator\n",
    "    gen_inp = get_noise().cuda()\n",
    "\n",
    "    gen_out = gen(gen_inp)\n",
    "\n",
    "    dis_out_gen_training = dis(gen_out)\n",
    "    gen_loss = criteriond2(dis_out_gen_training, Variable(torch.ones(batch_size,1)).cuda())\n",
    "    gen_loss.backward()\n",
    "\n",
    "    optimizerd2.step()\n",
    "        \n",
    "    if epoch%print_interval==0:\n",
    "        print(\"========\" + str(epoch) + \"========\")\n",
    "        print(\"Avg Real Loss: \" + str(running_real_loss / d_steps))\n",
    "        print(\"Avg Fake Loss: \" + str(running_fake_loss / d_steps))\n",
    "        running_real_loss = 0.0\n",
    "        running_fake_loss = 0.0\n",
    "        plot_img(gen_out[0].cpu())\n",
    "        print(\"\\n\\n\")"
   ]
  },
  {
   "cell_type": "code",
   "execution_count": null,
   "metadata": {},
   "outputs": [],
   "source": []
  }
 ],
 "metadata": {
  "kernelspec": {
   "display_name": "Python 3",
   "language": "python",
   "name": "python3"
  },
  "language_info": {
   "codemirror_mode": {
    "name": "ipython",
    "version": 3
   },
   "file_extension": ".py",
   "mimetype": "text/x-python",
   "name": "python",
   "nbconvert_exporter": "python",
   "pygments_lexer": "ipython3",
   "version": "3.8.1"
  }
 },
 "nbformat": 4,
 "nbformat_minor": 4
}
