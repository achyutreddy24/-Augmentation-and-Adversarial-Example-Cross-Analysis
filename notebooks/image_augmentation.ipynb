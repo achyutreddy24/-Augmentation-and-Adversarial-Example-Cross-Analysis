{
 "cells": [
  {
   "cell_type": "markdown",
   "metadata": {},
   "source": [
    "## Imports"
   ]
  },
  {
   "cell_type": "code",
   "execution_count": 51,
   "metadata": {},
   "outputs": [],
   "source": [
    "import torch as torch\n",
    "import torchvision as torchvision\n",
    "from torch.utils.data import Dataset, DataLoader\n",
    "from torchvision.datasets.utils import download_and_extract_archive\n",
    "from PIL import Image\n",
    "import numpy as np\n",
    "import imgaug as ia\n",
    "import imgaug.augmenters as iaa\n",
    "import os\n",
    "import re\n",
    "from mlxtend.data import loadlocal_mnist\n",
    "\n",
    "import matplotlib.pyplot as plt\n",
    "\n",
    "import shutil"
   ]
  },
  {
   "cell_type": "markdown",
   "metadata": {},
   "source": [
    "## Definition of Dataset Class"
   ]
  },
  {
   "cell_type": "code",
   "execution_count": null,
   "metadata": {},
   "outputs": [],
   "source": [
    "class MnistAugmentationDataset(Dataset):\n",
    "    resources = [\n",
    "        (\"http://yann.lecun.com/exdb/mnist/train-images-idx3-ubyte.gz\", \"f68b3c2dcbeaaa9fbdd348bbdeb94873\"),\n",
    "        (\"http://yann.lecun.com/exdb/mnist/train-labels-idx1-ubyte.gz\", \"d53e105ee54ea40749a09fcbcd1e9432\"),\n",
    "        (\"http://yann.lecun.com/exdb/mnist/t10k-images-idx3-ubyte.gz\", \"9fb629c4189551a2d022fa330f9573f3\"),\n",
    "        (\"http://yann.lecun.com/exdb/mnist/t10k-labels-idx1-ubyte.gz\", \"ec29112dd5afa0611ce80d1b7f02629c\")\n",
    "    ]\n",
    "    \n",
    "    base_folder = '../data/MNIST/base'\n",
    "    \n",
    "    training_file = 'training.pt'\n",
    "    test_file = 'test.pt'\n",
    "    \n",
    "    def download(self):\n",
    "        for url, md5 in self.resources:\n",
    "            filename = url.rpartition('/')[2]\n",
    "            download_and_extract_archive(url, download_root=self.base_folder, filename=filename, md5=md5)\n",
    "            \n",
    "        for f in os.listdir(self.base_folder):\n",
    "            if f[len(f) - 3: len(f)].lower() == '.gz':\n",
    "                os.remove(os.path.join(self.base_folder, f))\n",
    "    \n",
    "    def __init__(self, name, seq=None, train=True, transform=None, force_augment=False, force_download=False):\n",
    "        self.transform = transform\n",
    "        \n",
    "        if force_download or not os.path.exists(self.base_folder):\n",
    "            if (os.path.exists(self.base_folder)):\n",
    "                shutil.rmtree(self.base_folder)\n",
    "            os.makedirs(self.base_folder)\n",
    "            self.download()\n",
    "        \n",
    "        self.root_folder = '../data/MNIST/augmented/' + name\n",
    "        if force_augment or not os.path.exists(self.root_folder):\n",
    "            if (os.path.exists(self.root_folder)):\n",
    "                shutil.rmtree(self.root_folder)\n",
    "            os.makedirs(self.root_folder)\n",
    "            if (train):\n",
    "                self.image_data, self.label_data = loadlocal_mnist(\n",
    "                    images_path=self.base_folder + '/train-images-idx3-ubyte', \n",
    "                    labels_path=self.base_folder + '/train-labels-idx1-ubyte')\n",
    "            else:\n",
    "                self.image_data, self.label_data = loadlocal_mnist(\n",
    "                    images_path=self.base_folder + '/t10k-images-idx3-ubyte', \n",
    "                    labels_path=self.base_folder + '/t10k-labels-idx1-ubyte')\n",
    "            \n",
    "            self.image_data = np.reshape(self.image_data, (-1, 28, 28))\n",
    "            \n",
    "            if (seq != None):\n",
    "                self.image_data = seq(images=self.image_data)\n",
    "            \n",
    "            #save the information to csv files\n",
    "            print('Saving augmented data to filesystem...')\n",
    "            image_output_data = np.reshape(self.image_data, (-1, (28*28)))\n",
    "            np.savetxt(fname=self.root_folder + '/images.csv',\n",
    "                X=image_output_data, delimiter=',', fmt='%d')\n",
    "            np.savetxt(fname=self.root_folder + '/labels.csv', \n",
    "                X=self.label_data, delimiter=',', fmt='%d')\n",
    "            print('Done!')\n",
    "        else:\n",
    "            image_input_data = np.loadtxt(fname=self.root_folder + '/images.csv', dtype='uint8', delimiter=',')\n",
    "            self.image_data = np.reshape(image_input_data, (-1, 28, 28))\n",
    "            self.label_data = np.loadtxt(fname=self.root_folder + '/labels.csv', dtype='uint8', delimiter=',')\n",
    "            \n",
    "        \n",
    "            \n",
    "    def __len__(self):\n",
    "        return len(self.image_data)\n",
    "            \n",
    "    def __getitem__(self, index):\n",
    "        if torch.is_tensor(index):\n",
    "            idx = idx.tolist()\n",
    "            \n",
    "        image = self.image_data[index]\n",
    "        label = self.label_data[index]\n",
    "        \n",
    "        image = Image.fromarray(image, mode='L')\n",
    "\n",
    "        if self.transform is not None:\n",
    "            image = self.transform(image)\n",
    "            \n",
    "        return image, label"
   ]
  },
  {
   "cell_type": "code",
   "execution_count": null,
   "metadata": {},
   "outputs": [],
   "source": [
    "seq = iaa.Sequential(\n",
    "    [\n",
    "        iaa.Flipud(1)\n",
    "    ])\n",
    "ds = MnistAugmentationDataset(name='flip', seq=seq)\n",
    "image, label = ds.__getitem__(0)\n",
    "plt.imshow(image)"
   ]
  },
  {
   "cell_type": "code",
   "execution_count": null,
   "metadata": {},
   "outputs": [],
   "source": []
  }
 ],
 "metadata": {
  "kernelspec": {
   "display_name": "Python 3",
   "language": "python",
   "name": "python3"
  },
  "language_info": {
   "codemirror_mode": {
    "name": "ipython",
    "version": 3
   },
   "file_extension": ".py",
   "mimetype": "text/x-python",
   "name": "python",
   "nbconvert_exporter": "python",
   "pygments_lexer": "ipython3",
   "version": "3.8.1"
  }
 },
 "nbformat": 4,
 "nbformat_minor": 4
}
