{
 "cells": [
  {
   "cell_type": "code",
   "execution_count": 19,
   "metadata": {},
   "outputs": [],
   "source": [
    "import torch as torch\n",
    "import torchvision as torchvision\n",
    "from torch.utils.data import Dataset, DataLoader\n",
    "from torchvision.datasets.utils import download_and_extract_archive\n",
    "\n",
    "import numpy as np\n",
    "import imgaug as ia\n",
    "import imgaug.augmenters as iaa\n",
    "import os as re\n",
    "import re as re"
   ]
  },
  {
   "cell_type": "code",
   "execution_count": 30,
   "metadata": {},
   "outputs": [],
   "source": [
    "class MnistAugmentationDataset(Dataset):\n",
    "    resources = [\n",
    "        (\"http://yann.lecun.com/exdb/mnist/train-images-idx3-ubyte.gz\", \"f68b3c2dcbeaaa9fbdd348bbdeb94873\"),\n",
    "        (\"http://yann.lecun.com/exdb/mnist/train-labels-idx1-ubyte.gz\", \"d53e105ee54ea40749a09fcbcd1e9432\"),\n",
    "        (\"http://yann.lecun.com/exdb/mnist/t10k-images-idx3-ubyte.gz\", \"9fb629c4189551a2d022fa330f9573f3\"),\n",
    "        (\"http://yann.lecun.com/exdb/mnist/t10k-labels-idx1-ubyte.gz\", \"ec29112dd5afa0611ce80d1b7f02629c\")\n",
    "    ]\n",
    "    \n",
    "    base_folder = '../data/MNIST/base'\n",
    "    \n",
    "    training_file = 'training.pt'\n",
    "    test_file = 'test.pt'\n",
    "    \n",
    "    def download(self):\n",
    "        for url, md5 in self.resources:\n",
    "            filename = url.rpartition('/')[2]\n",
    "            download_and_extract_archive(url, download_root=self.base_folder, filename=filename, md5=md5)\n",
    "            \n",
    "        for f in os.listdir(self.base_folder):\n",
    "            if f[len(f) - 3: len(f)].lower() == '.gz':\n",
    "                os.remove(os.path.join(self.base_folder, f))\n",
    "    \n",
    "    def __init__(self, name, seq, transform=None):\n",
    "        self.root_dir = '../data/MNIST/augmented/' + name\n",
    "        \n",
    "        if not os.path.exists(self.root_dir):\n",
    "            os.makedirs(self.root_dir)\n",
    "        else:\n",
    "            return\n",
    "        \n",
    "        if not os.path.exists(self.base_folder):\n",
    "            os.makedirs(self.base_folder)\n",
    "            self.download()\n",
    "        \n",
    "ds = MnistAugmentationDataset('test', None)"
   ]
  },
  {
   "cell_type": "code",
   "execution_count": null,
   "metadata": {},
   "outputs": [],
   "source": []
  }
 ],
 "metadata": {
  "kernelspec": {
   "display_name": "Python 3",
   "language": "python",
   "name": "python3"
  },
  "language_info": {
   "codemirror_mode": {
    "name": "ipython",
    "version": 3
   },
   "file_extension": ".py",
   "mimetype": "text/x-python",
   "name": "python",
   "nbconvert_exporter": "python",
   "pygments_lexer": "ipython3",
   "version": "3.8.1"
  }
 },
 "nbformat": 4,
 "nbformat_minor": 4
}
