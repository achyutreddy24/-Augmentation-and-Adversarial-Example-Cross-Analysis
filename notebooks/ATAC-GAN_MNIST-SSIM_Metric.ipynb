{
 "cells": [
  {
   "cell_type": "code",
   "execution_count": 83,
   "metadata": {},
   "outputs": [],
   "source": [
    "# Code:\n",
    "# https://github.com/eriklindernoren/PyTorch-GAN/blob/master/implementations/acgan/acgan.py"
   ]
  },
  {
   "cell_type": "code",
   "execution_count": 2,
   "metadata": {},
   "outputs": [],
   "source": [
    "# Imports\n",
    "import argparse\n",
    "import os\n",
    "import numpy as np\n",
    "import math\n",
    "\n",
    "import torchvision.transforms as transforms\n",
    "from torchvision.utils import save_image\n",
    "\n",
    "from torch.utils.data import DataLoader\n",
    "from torchvision import datasets\n",
    "from torch.autograd import Variable\n",
    "\n",
    "import torch.nn as nn\n",
    "import torch.nn.functional as F\n",
    "import torch\n",
    "\n",
    "# Models\n",
    "from torchvision.models import vgg19\n",
    "from sys import path\n",
    "path.append(\"../utils\")\n",
    "path.append(\"../\")\n",
    "from models import LeNet5\n",
    "\n"
   ]
  },
  {
   "cell_type": "code",
   "execution_count": 3,
   "metadata": {},
   "outputs": [],
   "source": [
    "parser = argparse.ArgumentParser(\"ATAC-GAN MNIST\")"
   ]
  },
  {
   "cell_type": "code",
   "execution_count": 55,
   "metadata": {},
   "outputs": [],
   "source": [
    "# Configs\n",
    "\n",
    "cuda = True\n",
    "\n",
    "n_epochs=200\n",
    "batch_size=64\n",
    "lr=0.02\n",
    "b1=0.5\n",
    "b2=0.999\n",
    "latent_dim=100\n",
    "n_classes=10\n",
    "img_size=28\n",
    "channels=1\n",
    "sample_interval=30\n",
    "\n",
    "d_real_loss_coeff = 0.6\n",
    "d_fake_loss_coeff = 0.4\n",
    "\n",
    "adv_loss_coeff = 1\n",
    "aux_loss_coeff = 1\n",
    "tar_loss_coeff = .05\n",
    "\n",
    "tar_loss_default = 22.2  # This is equal to the max possible tar_loss value\n",
    "\n",
    "# target classifier conditional constants\n",
    "adv_loss_threshold = 0.9\n",
    "aux_loss_threshold = 1.465\n",
    "\n",
    "lenet5_state_path = \"../utils/models/trained_lenet5.pkl\"\n"
   ]
  },
  {
   "cell_type": "code",
   "execution_count": 5,
   "metadata": {},
   "outputs": [],
   "source": [
    "def load_LeNet5():\n",
    "    net = LeNet5()\n",
    "    if cuda:\n",
    "        net.cuda()\n",
    "    \n",
    "    # remove map location = cpu if using cuda\n",
    "    net.load_state_dict(torch.load(lenet5_state_path, map_location=torch.device('cpu')))\n",
    "    \n",
    "    # set model to eval mode so nothing is changed\n",
    "    net.eval()\n",
    "    \n",
    "    return net\n",
    "    "
   ]
  },
  {
   "cell_type": "code",
   "execution_count": 6,
   "metadata": {},
   "outputs": [],
   "source": [
    "def weights_init_normal(m):\n",
    "    classname = m.__class__.__name__\n",
    "    if classname.find(\"Conv\") != -1:\n",
    "        torch.nn.init.normal_(m.weight.data, 0.0, 0.02)\n",
    "    elif classname.find(\"BatchNorm2d\") != -1:\n",
    "        torch.nn.init.normal_(m.weight.data, 1.0, 0.02)\n",
    "        torch.nn.init.constant_(m.bias.data, 0.0)"
   ]
  },
  {
   "cell_type": "code",
   "execution_count": 7,
   "metadata": {},
   "outputs": [],
   "source": [
    "# Models\n",
    "\n",
    "class Generator(nn.Module):\n",
    "    def __init__(self):\n",
    "        super(Generator, self).__init__()\n",
    "\n",
    "        self.label_emb = nn.Embedding(n_classes, latent_dim)\n",
    "\n",
    "        self.init_size = img_size // 4  # Initial size before upsampling\n",
    "        self.l1 = nn.Sequential(nn.Linear(latent_dim, 128 * self.init_size ** 2))\n",
    "\n",
    "        self.conv_blocks = nn.Sequential(\n",
    "            nn.BatchNorm2d(128),\n",
    "            nn.Upsample(scale_factor=2),\n",
    "            nn.Conv2d(128, 128, 3, stride=1, padding=1),\n",
    "            nn.BatchNorm2d(128, 0.8),\n",
    "            nn.LeakyReLU(0.2, inplace=True),\n",
    "            nn.Upsample(scale_factor=2),\n",
    "            nn.Conv2d(128, 64, 3, stride=1, padding=1),\n",
    "            nn.BatchNorm2d(64, 0.8),\n",
    "            nn.LeakyReLU(0.2, inplace=True),\n",
    "            nn.Conv2d(64, channels, 3, stride=1, padding=1),\n",
    "            nn.Tanh(),\n",
    "        )\n",
    "\n",
    "    def forward(self, noise, labels):\n",
    "        gen_input = torch.mul(self.label_emb(labels), noise)\n",
    "        out = self.l1(gen_input)\n",
    "        out = out.view(out.shape[0], 128, self.init_size, self.init_size)\n",
    "        img = self.conv_blocks(out)\n",
    "        return img\n"
   ]
  },
  {
   "cell_type": "code",
   "execution_count": 65,
   "metadata": {},
   "outputs": [],
   "source": [
    "from pytorch_msssim import ssim, SSIM, MS_SSIM\n",
    "# reuse the gaussian kernel with SSIM & MS_SSIM. \n",
    "ssim_module = SSIM(data_range=255, size_average=True, channel=1, nonnegative_ssim=True)\n",
    "ms_ssim_module = MS_SSIM(size_average=True, channel=1, nonnegative_ssim=True)\n",
    "\n",
    "\n",
    "# Loss functions\n",
    "target_classifier_loss = nn.CrossEntropyLoss() # negate target classifier output when passing to this loss function\n",
    "\n",
    "# Initialize generator and discriminator\n",
    "generator = Generator()\n",
    "discriminator = Discriminator()\n",
    "\n",
    "# Load target classifier\n",
    "\n",
    "target_classifier = load_LeNet5()\n",
    "\n",
    "if cuda:\n",
    "    generator.cuda()\n",
    "    target_classifier = target_classifier.cuda()\n",
    "    target_classifier_loss = target_classifier_loss.cuda()"
   ]
  },
  {
   "cell_type": "code",
   "execution_count": 9,
   "metadata": {},
   "outputs": [],
   "source": [
    "# Initialize weights\n",
    "generator.apply(weights_init_normal)\n",
    "\n",
    "# Configure data loader\n",
    "os.makedirs(\"../data/mnist\", exist_ok=True)\n",
    "dataloader = torch.utils.data.DataLoader(\n",
    "    datasets.MNIST(\n",
    "        \"../data/mnist\",\n",
    "        train=True,\n",
    "        download=True,\n",
    "        transform=transforms.Compose(\n",
    "            [transforms.Resize(img_size), transforms.ToTensor(), transforms.Normalize([0.5], [0.5])]\n",
    "        ),\n",
    "    ),\n",
    "    batch_size=batch_size,\n",
    "    shuffle=True,\n",
    ")\n",
    "\n",
    "# Configure data loader\n",
    "os.makedirs(\"../data/mnist\", exist_ok=True)\n",
    "ssim_dataloader = torch.utils.data.DataLoader(\n",
    "    datasets.MNIST(\n",
    "        \"../data/mnist\",\n",
    "        train=True,\n",
    "        download=True,\n",
    "        transform=transforms.Compose(\n",
    "            [transforms.Resize(img_size), transforms.ToTensor(), transforms.Normalize([0.5], [0.5])]\n",
    "        ),\n",
    "    ),\n",
    "    batch_size=1,\n",
    "    shuffle=False,\n",
    ")"
   ]
  },
  {
   "cell_type": "code",
   "execution_count": 27,
   "metadata": {},
   "outputs": [],
   "source": [
    "# SSIM Metric Loss Functions\n",
    "import importlib\n",
    "import pytorch_ssim\n",
    "importlib.reload(pytorch_ssim)\n",
    "from skimage.metrics import structural_similarity as ssim\n",
    "\n",
    "\n",
    "ssim_loss = pytorch_ssim.SSIM()\n",
    "def ssim_to_classes(imgs):\n",
    "    ret = []\n",
    "    #for img in imgs:\n",
    "    ss = np.zeros(10)\n",
    "    counts = np.zeros(10)\n",
    "    for i, (img_ref, label) in enumerate(ssim_dataloader):\n",
    "        #print(img_ref.shape)\n",
    "        #print(imgs.shape)\n",
    "        x = pytorch_ssim.ssim(img_ref, imgs, window_size=5)\n",
    "        print(x, label)\n",
    "        ss[label.item()] += x\n",
    "        counts[label.item()] += 1\n",
    "        if i > 1000:\n",
    "            break\n",
    "    ret.append(np.divide(ss, counts))\n",
    "    return ret\n",
    "        \n",
    "c = 0\n",
    "ref_imgs = {}\n",
    "while c < 10:\n",
    "    for i, (img_ref, label) in enumerate(ssim_dataloader):\n",
    "        if ref_imgs.get(label.item()) is None:\n",
    "            ref_imgs[label.item()] = img_ref.cuda()\n",
    "            c += 1\n"
   ]
  },
  {
   "cell_type": "code",
   "execution_count": 29,
   "metadata": {},
   "outputs": [
    {
     "data": {
      "text/plain": [
       "0.6258317376486957"
      ]
     },
     "execution_count": 29,
     "metadata": {},
     "output_type": "execute_result"
    }
   ],
   "source": [
    "def single_ssim(label, img):\n",
    "    return pytorch_ssim.ssim(ref_imgs[label.item()], img, window_size=4)\n",
    "    \n",
    "def batch_ssim(labels, imgs):\n",
    "    ret = np.zeros(batch_size)\n",
    "    for i in range(batch_size):\n",
    "        ret[i] = single_ssim(labels[i], imgs[i].view(1, 1, 28, 28))\n",
    "    return np.mean(ret)\n",
    "\n",
    "imgs, l = next(iter(dataloader))\n",
    "batch_ssim(l, imgs.cuda())"
   ]
  },
  {
   "cell_type": "code",
   "execution_count": 21,
   "metadata": {},
   "outputs": [],
   "source": [
    "# Optimizers\n",
    "optimizer_G = torch.optim.Adam(generator.parameters(), lr=lr, betas=(b1, b2))\n",
    "\n",
    "FloatTensor = torch.cuda.FloatTensor if cuda else torch.FloatTensor\n",
    "LongTensor = torch.cuda.LongTensor if cuda else torch.LongTensor"
   ]
  },
  {
   "cell_type": "code",
   "execution_count": 67,
   "metadata": {},
   "outputs": [],
   "source": [
    "def sample_image(n_row, batches_done):\n",
    "    \"\"\"Saves a grid of generated digits ranging from 0 to n_classes\"\"\"\n",
    "    # Sample noise\n",
    "    z = Variable(FloatTensor(np.random.normal(0, 1, (n_row ** 2, latent_dim))))\n",
    "    # Get labels ranging from 0 to n_classes for n rows\n",
    "    labels = np.array([num for _ in range(n_row) for num in range(n_row)])\n",
    "    labels = Variable(LongTensor(labels))\n",
    "    gen_imgs = generator(z, labels)\n",
    "    save_image(gen_imgs.data, \"../images/%d.png\" % batches_done, nrow=n_row, normalize=True)\n",
    "\n",
    "def get_target_loss(ssim_loss, target_classification, true_classification):\n",
    "    #print(target_classification[0])\n",
    "    if (ssim_loss < 0.5):\n",
    "        return target_classifier_loss(target_classification * -1, true_classification)\n",
    "    return Variable(FloatTensor([tar_loss_default]))\n",
    "    "
   ]
  },
  {
   "cell_type": "code",
   "execution_count": 102,
   "metadata": {},
   "outputs": [
    {
     "name": "stdout",
     "output_type": "stream",
     "text": [
      "=====================\n",
      "Epoch 0/200\n",
      " ssim loss: 0.059007, tar loss: 0.118902\n",
      "=====================\n",
      "Epoch 30/200\n",
      " ssim loss: 0.066125, tar loss: 0.095602\n",
      "=====================\n",
      "Epoch 60/200\n",
      " ssim loss: 0.060761, tar loss: 0.118868\n",
      "=====================\n",
      "Epoch 90/200\n",
      " ssim loss: 0.048219, tar loss: 0.112018\n",
      "=====================\n",
      "Epoch 120/200\n",
      " ssim loss: 0.058537, tar loss: 0.128916\n",
      "=====================\n",
      "Epoch 150/200\n",
      " ssim loss: 0.066134, tar loss: 0.118855\n",
      "=====================\n",
      "Epoch 180/200\n",
      " ssim loss: 0.047678, tar loss: 0.113372\n",
      "=====================\n",
      "Epoch 210/200\n",
      " ssim loss: 0.051258, tar loss: 0.105030\n",
      "=====================\n",
      "Epoch 240/200\n",
      " ssim loss: 0.052911, tar loss: 0.105000\n",
      "=====================\n",
      "Epoch 270/200\n",
      " ssim loss: 0.051425, tar loss: 0.105033\n",
      "=====================\n",
      "Epoch 300/200\n",
      " ssim loss: 0.046613, tar loss: 0.113382\n",
      "=====================\n",
      "Epoch 330/200\n",
      " ssim loss: 0.062374, tar loss: 0.106011\n",
      "=====================\n",
      "Epoch 360/200\n",
      " ssim loss: 0.053357, tar loss: 0.105004\n",
      "=====================\n",
      "Epoch 390/200\n",
      " ssim loss: 0.063432, tar loss: 0.095595\n",
      "=====================\n",
      "Epoch 420/200\n",
      " ssim loss: 0.048440, tar loss: 0.113385\n",
      "=====================\n",
      "Epoch 450/200\n",
      " ssim loss: 0.049497, tar loss: 0.113344\n",
      "=====================\n",
      "Epoch 480/200\n",
      " ssim loss: 0.081319, tar loss: 0.165670\n",
      "=====================\n",
      "Epoch 510/200\n",
      " ssim loss: 0.058318, tar loss: 0.128923\n",
      "=====================\n",
      "Epoch 540/200\n",
      " ssim loss: 0.072890, tar loss: 0.110020\n",
      "=====================\n",
      "Epoch 570/200\n",
      " ssim loss: 0.049925, tar loss: 0.105044\n",
      "=====================\n",
      "Epoch 600/200\n",
      " ssim loss: 0.062496, tar loss: 0.123849\n",
      "=====================\n",
      "Epoch 630/200\n",
      " ssim loss: 0.055229, tar loss: 0.128921\n",
      "=====================\n",
      "Epoch 660/200\n",
      " ssim loss: 0.055116, tar loss: 0.128921\n",
      "=====================\n",
      "Epoch 690/200\n",
      " ssim loss: 0.062716, tar loss: 0.118865\n",
      "=====================\n",
      "Epoch 720/200\n",
      " ssim loss: 0.054232, tar loss: 0.128917\n",
      "=====================\n",
      "Epoch 750/200\n",
      " ssim loss: 0.062405, tar loss: 0.095604\n",
      "=====================\n",
      "Epoch 780/200\n",
      " ssim loss: 0.062999, tar loss: 0.123851\n",
      "=====================\n",
      "Epoch 810/200\n",
      " ssim loss: 0.051444, tar loss: 0.128926\n",
      "=====================\n",
      "Epoch 840/200\n",
      " ssim loss: 0.051683, tar loss: 0.105020\n",
      "=====================\n",
      "Epoch 870/200\n",
      " ssim loss: 0.048226, tar loss: 0.113783\n",
      "=====================\n",
      "Epoch 900/200\n",
      " ssim loss: 0.079766, tar loss: 0.165666\n",
      "=====================\n",
      "Epoch 930/200\n",
      " ssim loss: 0.057964, tar loss: 0.128939\n",
      "=====================\n",
      "Epoch 960/200\n",
      " ssim loss: 0.059325, tar loss: 0.118872\n",
      "=====================\n",
      "Epoch 990/200\n",
      " ssim loss: 0.070894, tar loss: 0.110020\n",
      "=====================\n",
      "Epoch 1020/200\n",
      " ssim loss: 0.062485, tar loss: 0.095611\n",
      "=====================\n",
      "Epoch 1050/200\n",
      " ssim loss: 0.054197, tar loss: 0.112007\n",
      "=====================\n",
      "Epoch 1080/200\n",
      " ssim loss: 0.060409, tar loss: 0.095600\n",
      "=====================\n",
      "Epoch 1110/200\n",
      " ssim loss: 0.050883, tar loss: 0.105019\n",
      "=====================\n",
      "Epoch 1140/200\n",
      " ssim loss: 0.064270, tar loss: 0.123854\n",
      "=====================\n",
      "Epoch 1170/200\n",
      " ssim loss: 0.067253, tar loss: 0.106031\n",
      "=====================\n",
      "Epoch 1200/200\n",
      " ssim loss: 0.064851, tar loss: 0.123841\n",
      "=====================\n",
      "Epoch 1230/200\n",
      " ssim loss: 0.062402, tar loss: 0.118863\n",
      "=====================\n",
      "Epoch 1260/200\n",
      " ssim loss: 0.048679, tar loss: 0.113375\n",
      "=====================\n",
      "Epoch 1290/200\n",
      " ssim loss: 0.065206, tar loss: 0.123831\n",
      "=====================\n",
      "Epoch 1320/200\n",
      " ssim loss: 0.060012, tar loss: 0.118884\n",
      "=====================\n",
      "Epoch 1350/200\n",
      " ssim loss: 0.052083, tar loss: 0.112028\n",
      "=====================\n",
      "Epoch 1380/200\n",
      " ssim loss: 0.062826, tar loss: 0.095586\n",
      "=====================\n",
      "Epoch 1410/200\n",
      " ssim loss: 0.060544, tar loss: 0.095613\n",
      "=====================\n",
      "Epoch 1440/200\n",
      " ssim loss: 0.049778, tar loss: 0.113346\n",
      "=====================\n",
      "Epoch 1470/200\n",
      " ssim loss: 0.074914, tar loss: 0.110021\n",
      "=====================\n",
      "Epoch 1500/200\n",
      " ssim loss: 0.074407, tar loss: 0.110014\n",
      "=====================\n",
      "Epoch 1530/200\n",
      " ssim loss: 0.053828, tar loss: 0.105028\n",
      "=====================\n",
      "Epoch 1560/200\n",
      " ssim loss: 0.048544, tar loss: 0.113355\n",
      "=====================\n",
      "Epoch 1590/200\n",
      " ssim loss: 0.084711, tar loss: 0.165652\n",
      "=====================\n",
      "Epoch 1620/200\n",
      " ssim loss: 0.062112, tar loss: 0.118877\n",
      "=====================\n",
      "Epoch 1650/200\n",
      " ssim loss: 0.068077, tar loss: 0.095611\n",
      "=====================\n",
      "Epoch 1680/200\n",
      " ssim loss: 0.074422, tar loss: 0.110020\n",
      "=====================\n",
      "Epoch 1710/200\n",
      " ssim loss: 0.063698, tar loss: 0.118847\n",
      "=====================\n",
      "Epoch 1740/200\n",
      " ssim loss: 0.050624, tar loss: 0.105010\n",
      "=====================\n",
      "Epoch 1770/200\n",
      " ssim loss: 0.063317, tar loss: 0.118826\n",
      "=====================\n",
      "Epoch 1800/200\n",
      " ssim loss: 0.065905, tar loss: 0.095600\n",
      "=====================\n",
      "Epoch 1830/200\n",
      " ssim loss: 0.063118, tar loss: 0.095608\n",
      "=====================\n",
      "Epoch 1860/200\n",
      " ssim loss: 0.062207, tar loss: 0.118876\n"
     ]
    },
    {
     "ename": "KeyboardInterrupt",
     "evalue": "",
     "output_type": "error",
     "traceback": [
      "\u001b[0;31m---------------------------------------------------------------------------\u001b[0m",
      "\u001b[0;31mKeyboardInterrupt\u001b[0m                         Traceback (most recent call last)",
      "\u001b[0;32m<ipython-input-102-2ef74d1783ac>\u001b[0m in \u001b[0;36m<module>\u001b[0;34m\u001b[0m\n\u001b[1;32m     28\u001b[0m     \u001b[0;31m#refs = torch.from_numpy(refs).cuda()\u001b[0m\u001b[0;34m\u001b[0m\u001b[0;34m\u001b[0m\u001b[0;34m\u001b[0m\u001b[0m\n\u001b[1;32m     29\u001b[0m     \u001b[0;31m#ssim_loss = batch_ssim(gen_labels, gen_imgs)\u001b[0m\u001b[0;34m\u001b[0m\u001b[0;34m\u001b[0m\u001b[0;34m\u001b[0m\u001b[0m\n\u001b[0;32m---> 30\u001b[0;31m     \u001b[0mssim_loss\u001b[0m \u001b[0;34m=\u001b[0m \u001b[0;36m1\u001b[0m\u001b[0;34m-\u001b[0m\u001b[0mssim\u001b[0m\u001b[0;34m(\u001b[0m\u001b[0mrefs\u001b[0m\u001b[0;34m,\u001b[0m \u001b[0mgen_imgs\u001b[0m\u001b[0;34m,\u001b[0m \u001b[0msize_average\u001b[0m\u001b[0;34m=\u001b[0m\u001b[0;32mTrue\u001b[0m\u001b[0;34m)\u001b[0m\u001b[0;34m\u001b[0m\u001b[0;34m\u001b[0m\u001b[0m\n\u001b[0m\u001b[1;32m     31\u001b[0m     \u001b[0mtar_loss\u001b[0m \u001b[0;34m=\u001b[0m \u001b[0mtar_loss_coeff\u001b[0m \u001b[0;34m*\u001b[0m \u001b[0mget_target_loss\u001b[0m\u001b[0;34m(\u001b[0m\u001b[0mssim_loss\u001b[0m\u001b[0;34m,\u001b[0m \u001b[0mtarget_classifier_pred_label\u001b[0m\u001b[0;34m,\u001b[0m \u001b[0mgen_labels\u001b[0m\u001b[0;34m)\u001b[0m\u001b[0;34m\u001b[0m\u001b[0;34m\u001b[0m\u001b[0m\n\u001b[1;32m     32\u001b[0m     \u001b[0mg_loss\u001b[0m \u001b[0;34m=\u001b[0m \u001b[0mssim_loss\u001b[0m \u001b[0;34m+\u001b[0m \u001b[0mtar_loss\u001b[0m\u001b[0;34m\u001b[0m\u001b[0;34m\u001b[0m\u001b[0m\n",
      "\u001b[0;32m~/Projects/AdversarialRobustness/venv/lib/python3.8/site-packages/pytorch_msssim/ssim.py\u001b[0m in \u001b[0;36mssim\u001b[0;34m(X, Y, win_size, win_sigma, win, data_range, size_average, full, K, nonnegative_ssim)\u001b[0m\n\u001b[1;32m    126\u001b[0m         \u001b[0mwin_size\u001b[0m \u001b[0;34m=\u001b[0m \u001b[0mwin\u001b[0m\u001b[0;34m.\u001b[0m\u001b[0mshape\u001b[0m\u001b[0;34m[\u001b[0m\u001b[0;34m-\u001b[0m\u001b[0;36m1\u001b[0m\u001b[0;34m]\u001b[0m\u001b[0;34m\u001b[0m\u001b[0;34m\u001b[0m\u001b[0m\n\u001b[1;32m    127\u001b[0m \u001b[0;34m\u001b[0m\u001b[0m\n\u001b[0;32m--> 128\u001b[0;31m     ssim_val, cs = _ssim(X, Y,\n\u001b[0m\u001b[1;32m    129\u001b[0m                          \u001b[0mwin\u001b[0m\u001b[0;34m=\u001b[0m\u001b[0mwin\u001b[0m\u001b[0;34m,\u001b[0m\u001b[0;34m\u001b[0m\u001b[0;34m\u001b[0m\u001b[0m\n\u001b[1;32m    130\u001b[0m                          \u001b[0mdata_range\u001b[0m\u001b[0;34m=\u001b[0m\u001b[0mdata_range\u001b[0m\u001b[0;34m,\u001b[0m\u001b[0;34m\u001b[0m\u001b[0;34m\u001b[0m\u001b[0m\n",
      "\u001b[0;32m~/Projects/AdversarialRobustness/venv/lib/python3.8/site-packages/pytorch_msssim/ssim.py\u001b[0m in \u001b[0;36m_ssim\u001b[0;34m(X, Y, win, data_range, size_average, full, K, nonnegative_ssim)\u001b[0m\n\u001b[1;32m     71\u001b[0m     \u001b[0msigma12\u001b[0m   \u001b[0;34m=\u001b[0m \u001b[0mcompensation\u001b[0m \u001b[0;34m*\u001b[0m \u001b[0;34m(\u001b[0m \u001b[0mgaussian_filter\u001b[0m\u001b[0;34m(\u001b[0m\u001b[0mX\u001b[0m \u001b[0;34m*\u001b[0m \u001b[0mY\u001b[0m\u001b[0;34m,\u001b[0m \u001b[0mwin\u001b[0m\u001b[0;34m)\u001b[0m \u001b[0;34m-\u001b[0m \u001b[0mmu1_mu2\u001b[0m \u001b[0;34m)\u001b[0m\u001b[0;34m\u001b[0m\u001b[0;34m\u001b[0m\u001b[0m\n\u001b[1;32m     72\u001b[0m \u001b[0;34m\u001b[0m\u001b[0m\n\u001b[0;32m---> 73\u001b[0;31m     \u001b[0mcs_map\u001b[0m \u001b[0;34m=\u001b[0m \u001b[0;34m(\u001b[0m\u001b[0;36m2\u001b[0m \u001b[0;34m*\u001b[0m \u001b[0msigma12\u001b[0m \u001b[0;34m+\u001b[0m \u001b[0mC2\u001b[0m\u001b[0;34m)\u001b[0m \u001b[0;34m/\u001b[0m \u001b[0;34m(\u001b[0m\u001b[0msigma1_sq\u001b[0m \u001b[0;34m+\u001b[0m \u001b[0msigma2_sq\u001b[0m \u001b[0;34m+\u001b[0m \u001b[0mC2\u001b[0m\u001b[0;34m)\u001b[0m \u001b[0;31m# set alpha=beta=gamma=1\u001b[0m\u001b[0;34m\u001b[0m\u001b[0;34m\u001b[0m\u001b[0m\n\u001b[0m\u001b[1;32m     74\u001b[0m     \u001b[0;32mif\u001b[0m \u001b[0mnonnegative_ssim\u001b[0m\u001b[0;34m:\u001b[0m\u001b[0;34m\u001b[0m\u001b[0;34m\u001b[0m\u001b[0m\n\u001b[1;32m     75\u001b[0m         \u001b[0mcs_map\u001b[0m \u001b[0;34m=\u001b[0m \u001b[0mF\u001b[0m\u001b[0;34m.\u001b[0m\u001b[0mrelu\u001b[0m\u001b[0;34m(\u001b[0m \u001b[0mcs_map\u001b[0m\u001b[0;34m,\u001b[0m \u001b[0minplace\u001b[0m\u001b[0;34m=\u001b[0m\u001b[0;32mTrue\u001b[0m \u001b[0;34m)\u001b[0m\u001b[0;34m\u001b[0m\u001b[0;34m\u001b[0m\u001b[0m\n",
      "\u001b[0;31mKeyboardInterrupt\u001b[0m: "
     ]
    }
   ],
   "source": [
    "# Training\n",
    "import csv\n",
    "f = open('../models/RunSSIM1_log.csv', 'a')\n",
    "log_writer = csv.writer(f, delimiter=',')\n",
    "log_writer.writerow(['Epoch', 'SSIMLoss', 'TarLoss', 'GLoss'])\n",
    "for epoch in range(40000):\n",
    "    batch_size = 1\n",
    "    # -----------------\n",
    "    #  Train Generator\n",
    "    # -----------------\n",
    "\n",
    "    optimizer_G.zero_grad()\n",
    "\n",
    "    # Sample noise and labels as generator input\n",
    "    z = Variable(FloatTensor(np.random.normal(0, 1, (batch_size, latent_dim))), requires_grad=True)\n",
    "    gen_labels = Variable(LongTensor(np.random.randint(0, n_classes, batch_size)))\n",
    "\n",
    "    # Generate a batch of images\n",
    "    gen_imgs = generator(z, gen_labels)\n",
    "\n",
    "    target_classifier_pred_label = target_classifier(gen_imgs)\n",
    "\n",
    "    t_acc = np.mean(np.argmax(target_classifier_pred_label.data.cpu().numpy(), axis=1) == gen_labels.data.cpu().numpy())\n",
    "\n",
    "    refs = torch.zeros([batch_size, 1, 28, 28]).cuda()\n",
    "    for i,l in enumerate(gen_labels):\n",
    "        refs[i] = ref_imgs[l.item()][0]\n",
    "    #refs = torch.from_numpy(refs).cuda()\n",
    "    #ssim_loss = batch_ssim(gen_labels, gen_imgs)\n",
    "    ssim_loss = 1-ssim(refs, gen_imgs, size_average=True)\n",
    "    tar_loss = tar_loss_coeff * get_target_loss(ssim_loss, target_classifier_pred_label, gen_labels)\n",
    "    g_loss = ssim_loss + tar_loss\n",
    "\n",
    "    g_loss.backward()\n",
    "    optimizer_G.step()\n",
    "\n",
    "    # ---------------------\n",
    "    #  Train Discriminator\n",
    "    # ---------------------\n",
    "\n",
    "    log_writer.writerow([epoch, ssim_loss.item(), tar_loss.item(), g_loss.item()])\n",
    "\n",
    "    if epoch % sample_interval == 0:\n",
    "        sample_image(n_row=10, batches_done=epoch)\n",
    "        # Saves weights\n",
    "        #torch.save(generator.state_dict(), \"../models/SSIM1_G\")\n",
    "        print(\n",
    "            \"=====================\\nEpoch %d/%d\\n ssim loss: %f, tar loss: %f\"\n",
    "            % (epoch, n_epochs, ssim_loss.item(), tar_loss.item())\n",
    "        )\n"
   ]
  },
  {
   "cell_type": "code",
   "execution_count": 12,
   "metadata": {},
   "outputs": [],
   "source": [
    "# Saves weights\n",
    "torch.save(generator.state_dict(), \"../models/Success2_G\")\n",
    "torch.save(discriminator.state_dict(), \"../models/Success2_D\")"
   ]
  },
  {
   "cell_type": "code",
   "execution_count": 78,
   "metadata": {},
   "outputs": [],
   "source": [
    "# Testing\n",
    "batch_size = 1000\n",
    "z = Variable(FloatTensor(np.random.normal(0, 1, (batch_size, latent_dim))))\n",
    "gen_labels = Variable(LongTensor(np.random.randint(0, n_classes, batch_size)))\n",
    "\n",
    "# Generate a batch of images\n",
    "gen_imgs = generator(z, gen_labels)"
   ]
  },
  {
   "cell_type": "code",
   "execution_count": 77,
   "metadata": {},
   "outputs": [
    {
     "name": "stdout",
     "output_type": "stream",
     "text": [
      "torch.Size([1, 28, 28])\n"
     ]
    },
    {
     "data": {
      "text/plain": [
       "Text(0.5, 1.0, 'Gen Label: 0')"
      ]
     },
     "execution_count": 77,
     "metadata": {},
     "output_type": "execute_result"
    },
    {
     "data": {
      "image/png": "[encoded data removed]",
      "text/plain": [
       "<Figure size 432x288 with 1 Axes>"
      ]
     },
     "metadata": {
      "needs_background": "light"
     },
     "output_type": "display_data"
    }
   ],
   "source": [
    "# Plots a sample\n",
    "import matplotlib.pyplot as plt\n",
    "sample_idx = 28\n",
    "print(gen_imgs[sample_idx].shape)\n",
    "plt.imshow(gen_imgs[sample_idx][0].cpu().detach().numpy(), cmap='gray', interpolation='none')\n",
    "plt.title(\"Gen Label: \" + str(gen_labels.cpu().detach().numpy()[sample_idx]))"
   ]
  },
  {
   "cell_type": "code",
   "execution_count": 98,
   "metadata": {},
   "outputs": [
    {
     "name": "stdout",
     "output_type": "stream",
     "text": [
      "torch.Size([1, 28, 28])\n"
     ]
    },
    {
     "data": {
      "text/plain": [
       "<matplotlib.image.AxesImage at 0x7f6328097760>"
      ]
     },
     "execution_count": 98,
     "metadata": {},
     "output_type": "execute_result"
    },
    {
     "data": {
      "image/png": "[encoded data removed]",
      "text/plain": [
       "<Figure size 432x288 with 1 Axes>"
      ]
     },
     "metadata": {
      "needs_background": "light"
     },
     "output_type": "display_data"
    }
   ],
   "source": [
    "# Plots a ref\n",
    "print(ref_imgs[0].view(1, 28, 28).shape)\n",
    "plt.imshow(ref_imgs[9][0][0].cpu().detach().numpy(), cmap='gray', interpolation='none')"
   ]
  },
  {
   "cell_type": "code",
   "execution_count": 43,
   "metadata": {},
   "outputs": [
    {
     "data": {
      "text/plain": [
       "5"
      ]
     },
     "execution_count": 43,
     "metadata": {},
     "output_type": "execute_result"
    }
   ],
   "source": [
    "# Finds target classification for sample\n",
    "pred_labels = target_classifier(gen_imgs)\n",
    "np.argmax(pred_labels.data.cpu().numpy()[sample_idx])\n",
    "#pred_labels.data.cpu().numpy()[sample_idx]"
   ]
  },
  {
   "cell_type": "code",
   "execution_count": 44,
   "metadata": {},
   "outputs": [
    {
     "data": {
      "text/plain": [
       "(array([ 28, 120, 163, 301, 308, 338, 357, 381, 411, 473, 481, 630, 671,\n",
       "        733, 763, 859, 939, 950, 952, 954, 961, 970]),)"
      ]
     },
     "execution_count": 44,
     "metadata": {},
     "output_type": "execute_result"
    }
   ],
   "source": [
    "# Finds indexes that have adversarial examples\n",
    "t_acc = np.argmax(pred_labels.data.cpu().numpy(), axis=1) == gen_labels.data.cpu().numpy()\n",
    "np.where(t_acc == False)"
   ]
  },
  {
   "cell_type": "code",
   "execution_count": 54,
   "metadata": {},
   "outputs": [
    {
     "data": {
      "image/png": "[encoded data removed]",
      "text/plain": [
       "<Figure size 432x288 with 1 Axes>"
      ]
     },
     "metadata": {
      "needs_background": "light"
     },
     "output_type": "display_data"
    }
   ],
   "source": [
    "gen = gen_imgs.cpu().detach().numpy()\n",
    "preds = pred_labels.data.cpu().numpy()\n",
    "true = gen_labels.data.cpu().numpy()\n",
    "v = validity.data.cpu().numpy()\n",
    "dpred = dpred_labels.data.cpu().numpy()\n",
    "for i in range(len(true)):\n",
    "    if np.argmax(preds[i]) != true[i]:\n",
    "        plt.title(\"Gen Label: \" + str(true[i]) + \"; LeNet Label: \" + str(np.argmax(preds[i])))\n",
    "        plt.xlabel(\"Discriminator Valid: \" + str(v[i]) +\" Discriminator Class: \" + str(np.argmax(dpred[i])))\n",
    "        plt.imshow(gen[i][0], cmap='gray')\n",
    "        plt.savefig(\"../images/SecondRun/AdversarialExamples/\" + str(1000+i) + \".png\")\n",
    "        \n",
    "#for i in range(len(true)):\n",
    "#    plt.title(\"Gen Label: \" + str(true[i]) + \"; LeNet Label: \" + str(np.argmax(preds[i])))\n",
    "#    plt.imshow(gen[i][0], cmap='gray')\n",
    "#    plt.savefig(\"../images/SecondRun/AllSamples/\" + str(i) + \".png\")"
   ]
  },
  {
   "cell_type": "code",
   "execution_count": 39,
   "metadata": {},
   "outputs": [],
   "source": [
    "# Extra saving\n",
    "torch.save(gen_imgs, \"../models/Success2_GenSample\")\n",
    "torch.save(gen_labels, \"../models/Success2_GenLabels\")\n",
    "torch.save(pred_labels, \"../models/Success2_LeNetLabels\")"
   ]
  },
  {
   "cell_type": "code",
   "execution_count": 48,
   "metadata": {},
   "outputs": [
    {
     "name": "stderr",
     "output_type": "stream",
     "text": [
      "/home/achyut/Projects/AdversarialRobustness/venv/lib/python3.8/site-packages/torch/nn/modules/container.py:100: UserWarning: Implicit dimension choice for softmax has been deprecated. Change the call to include dim=X as an argument.\n",
      "  input = module(input)\n"
     ]
    }
   ],
   "source": [
    "validity, dpred_labels = discriminator(gen_imgs)"
   ]
  }
 ],
 "metadata": {
  "kernelspec": {
   "display_name": "Python 3",
   "language": "python",
   "name": "python3"
  },
  "language_info": {
   "codemirror_mode": {
    "name": "ipython",
    "version": 3
   },
   "file_extension": ".py",
   "mimetype": "text/x-python",
   "name": "python",
   "nbconvert_exporter": "python",
   "pygments_lexer": "ipython3",
   "version": "3.8.1"
  }
 },
 "nbformat": 4,
 "nbformat_minor": 4
}
