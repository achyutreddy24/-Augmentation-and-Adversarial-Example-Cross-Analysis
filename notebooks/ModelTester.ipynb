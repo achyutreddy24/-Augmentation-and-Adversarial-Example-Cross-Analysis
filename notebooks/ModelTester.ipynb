{
 "cells": [
  {
   "cell_type": "code",
   "execution_count": 10,
   "metadata": {},
   "outputs": [],
   "source": [
    "from sys import path\n",
    "import os\n",
    "path.append(\"../training\")\n",
    "import ATACGAN_MNIST as atacgan\n",
    "import torch\n",
    "from torch.autograd import Variable\n",
    "import numpy as np\n",
    "import matplotlib.pyplot as plt\n",
    "\n",
    "FloatTensor = torch.FloatTensor\n",
    "LongTensor = torch.LongTensor"
   ]
  },
  {
   "cell_type": "code",
   "execution_count": 11,
   "metadata": {},
   "outputs": [],
   "source": [
    "output_path = \"../output/MNIST-9443302368425427241\"\n",
    "os.mkdir(output_path+\"/results\")"
   ]
  },
  {
   "cell_type": "code",
   "execution_count": 12,
   "metadata": {},
   "outputs": [
    {
     "data": {
      "text/plain": [
       "<All keys matched successfully>"
      ]
     },
     "execution_count": 12,
     "metadata": {},
     "output_type": "execute_result"
    }
   ],
   "source": [
    "generator = atacgan.Generator()\n",
    "generator.load_state_dict(torch.load(output_path + \"/G\", map_location=torch.device('cpu')))\n",
    "discriminator = atacgan.Discriminator()\n",
    "discriminator.load_state_dict(torch.load(output_path + \"/D\", map_location=torch.device('cpu')))"
   ]
  },
  {
   "cell_type": "code",
   "execution_count": 13,
   "metadata": {},
   "outputs": [],
   "source": [
    "batch_size = 1000\n",
    "z = Variable(FloatTensor(np.random.normal(0, 1, (batch_size, atacgan.latent_dim))))\n",
    "gen_labels = Variable(LongTensor(np.random.randint(0, atacgan.n_classes, batch_size)), requires_grad=False)\n",
    "target_labels = Variable(LongTensor(np.random.randint(0, atacgan.n_classes, batch_size)), requires_grad=False)\n",
    "\n",
    "gen_imgs = generator(z, gen_labels, target_labels)\n",
    "target_classifier = atacgan.load_LeNet5().cpu()\n",
    "pred_labels = target_classifier(gen_imgs)\n",
    "validity, dpred_labels = discriminator(gen_imgs)"
   ]
  },
  {
   "cell_type": "code",
   "execution_count": 14,
   "metadata": {},
   "outputs": [
    {
     "name": "stdout",
     "output_type": "stream",
     "text": [
      "True: tensor(0) Predicted 0\n"
     ]
    },
    {
     "data": {
      "text/plain": [
       "Text(0.5, 0, 'Discriminator Valid: [0.67579275] Discriminator Class: 0')"
      ]
     },
     "execution_count": 14,
     "metadata": {},
     "output_type": "execute_result"
    },
    {
     "data": {
      "image/png": "[encoded data removed]",
      "text/plain": [
       "<Figure size 432x288 with 1 Axes>"
      ]
     },
     "metadata": {
      "needs_background": "light"
     },
     "output_type": "display_data"
    }
   ],
   "source": [
    "# Display Sample\n",
    "\n",
    "sample_idx = 28\n",
    "print(\"True:\",gen_labels[sample_idx],\"Predicted\",np.argmax(pred_labels.data.cpu().numpy()[sample_idx]))\n",
    "plt.imshow(gen_imgs[sample_idx][0].cpu().detach().numpy(), cmap='gray', interpolation='none')\n",
    "plt.title(\"Gen Label: \" + str(gen_labels.cpu().detach().numpy()[sample_idx]) + \"; LeNet Label: \" + str(np.argmax(pred_labels.data.cpu().numpy()[sample_idx])))\n",
    "plt.xlabel(\"Discriminator Valid: \" + str(validity.data.cpu().numpy()[sample_idx]) +\" Discriminator Class: \" + str(np.argmax(dpred_labels.data.cpu().numpy()[sample_idx])))"
   ]
  },
  {
   "cell_type": "code",
   "execution_count": 15,
   "metadata": {},
   "outputs": [
    {
     "data": {
      "image/png": "[encoded data removed]",
      "text/plain": [
       "<Figure size 432x288 with 1 Axes>"
      ]
     },
     "metadata": {
      "needs_background": "light"
     },
     "output_type": "display_data"
    }
   ],
   "source": [
    "gen = gen_imgs.cpu().detach().numpy()\n",
    "preds = pred_labels.data.cpu().numpy()\n",
    "true = gen_labels.data.cpu().numpy()\n",
    "v = validity.data.cpu().numpy()\n",
    "dpred = dpred_labels.data.cpu().numpy()\n",
    "indices = []\n",
    "for i in range(len(true)):\n",
    "    if np.argmax(preds[i]) != true[i] and np.argmax(dpred[i]) == true[i]:\n",
    "        indices.append(i)\n",
    "        plt.title(\"Gen Label: \" + str(true[i]) + \"; LeNet Label: \" + str(np.argmax(preds[i])))\n",
    "        plt.xlabel(\"Discriminator Valid: \" + str(v[i]))\n",
    "        plt.imshow(gen[i][0], cmap='gray')\n",
    "        plt.savefig(output_path + \"/results/\" + str(i) + \".png\")"
   ]
  },
  {
   "cell_type": "code",
   "execution_count": 16,
   "metadata": {},
   "outputs": [
    {
     "name": "stdout",
     "output_type": "stream",
     "text": [
      "37 / 1000 (0.04) Adversarial\n"
     ]
    }
   ],
   "source": [
    "print(\"%d / %d (%.2f) Adversarial\" % (len(indices), batch_size, len(indices) / batch_size * 100))"
   ]
  },
  {
   "cell_type": "code",
   "execution_count": null,
   "metadata": {},
   "outputs": [],
   "source": []
  }
 ],
 "metadata": {
  "kernelspec": {
   "display_name": "Python 3",
   "language": "python",
   "name": "python3"
  },
  "language_info": {
   "codemirror_mode": {
    "name": "ipython",
    "version": 3
   },
   "file_extension": ".py",
   "mimetype": "text/x-python",
   "name": "python",
   "nbconvert_exporter": "python",
   "pygments_lexer": "ipython3",
   "version": "3.8.1"
  }
 },
 "nbformat": 4,
 "nbformat_minor": 4
}
